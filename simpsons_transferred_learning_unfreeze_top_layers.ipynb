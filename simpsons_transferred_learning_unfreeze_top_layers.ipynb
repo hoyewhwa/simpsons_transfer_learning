{
 "cells": [
  {
   "cell_type": "markdown",
   "metadata": {},
   "source": [
    "<a href=\"https://colab.research.google.com/github/nyp-sit/sdaai-pdc2-students/blob/master/iti107/session-3/improved_model.ipynb\" target=\"_parent\"><img src=\"https://colab.research.google.com/assets/colab-badge.svg\" alt=\"Open In Colab\" align=\"left\"/></a>"
   ]
  },
  {
   "cell_type": "markdown",
   "metadata": {},
   "source": [
    "# Simpsons Characters recognition using transfer learning (VGG19)\n",
    "\n",
    "The Simpsons Characters dataset is obtained from https://www.kaggle.com/alexattia/the-simpsons-characters-dataset.\n",
    "I only used 23 characters from the dataset. There are 13495 images for the 23 characters.\n",
    "\n",
    "I use transfer learning in the  baseline model for this experiment. I make use of the model (VGG19) that is already trained on ImageNet and use the convolutional layers as feature extractor and trained a classifier specifically for the Simpsons Characters classification task. The training was done using Nvidia GTX 1660 TI GPU.\n"
   ]
  },
  {
   "cell_type": "code",
   "execution_count": 1,
   "metadata": {},
   "outputs": [],
   "source": [
    "from __future__ import print_function\n",
    "\n",
    "import os\n",
    "import json\n",
    "import shutil\n",
    "import numpy as np\n",
    "\n",
    "from utils import prepare_data\n",
    "\n",
    "\n",
    "import tensorflow as tf\n",
    "\n",
    "from tensorflow.keras.models import Model, load_model\n",
    "from tensorflow.keras.models import Sequential\n",
    "from tensorflow.keras.layers import Input, Flatten, Dense, Dropout, GlobalAveragePooling2D\n",
    "from tensorflow.keras.optimizers import Adam\n",
    "from tensorflow.keras.callbacks import ModelCheckpoint\n",
    "from tensorflow.keras.applications import VGG19\n",
    "from tensorflow.keras.preprocessing.image import ImageDataGenerator, array_to_img, img_to_array, load_img\n",
    "\n",
    "from sklearn.metrics import classification_report, accuracy_score, roc_auc_score, roc_curve, \\\n",
    "                            precision_recall_curve, average_precision_score, confusion_matrix\n",
    "import pickle\n",
    "import matplotlib\n",
    "import matplotlib.pyplot as plt\n",
    "\n",
    "\n",
    "gpus = tf.config.experimental.list_physical_devices('GPU')\n",
    "tf.config.experimental.set_memory_growth(gpus[0], True)\n",
    "\n",
    "%matplotlib inline"
   ]
  },
  {
   "cell_type": "markdown",
   "metadata": {},
   "source": [
    "## Prepare Data\n",
    "\n",
    "Unzip the temp_data.zip into a temp_data folder. The utils.py will split the images to training and validation sets."
   ]
  },
  {
   "cell_type": "code",
   "execution_count": 2,
   "metadata": {},
   "outputs": [],
   "source": [
    "data_path = \"data\"\n",
    "models_path = \"models\"\n",
    "valid_size = 0.2\n",
    "FORCED_DATA_REWRITE = False"
   ]
  },
  {
   "cell_type": "code",
   "execution_count": 3,
   "metadata": {},
   "outputs": [],
   "source": [
    "train_path, valid_path = prepare_data(data_path=data_path, \n",
    "                                      valid_size=valid_size, \n",
    "                                      FORCED_DATA_REWRITE=FORCED_DATA_REWRITE)"
   ]
  },
  {
   "cell_type": "code",
   "execution_count": 4,
   "metadata": {},
   "outputs": [],
   "source": [
    "img_height, img_width = 300, 400"
   ]
  },
  {
   "cell_type": "markdown",
   "metadata": {},
   "source": [
    "## Pre-trained Model as Feature Extractor"
   ]
  },
  {
   "cell_type": "markdown",
   "metadata": {},
   "source": [
    "I use VGG19 as our pretrained model (you can choose any other pretrained model, such as ResNet, etc). Keras comes with a set of [pretrained models](https://www.tensorflow.org/api_docs/python/tf/keras/applications) you can choose from. In the following call, I load the model VGG19 without including the classification layers (`include_top=False`). For the weights, I specify to use the weights that was trained on ImageNet dataset."
   ]
  },
  {
   "cell_type": "code",
   "execution_count": 5,
   "metadata": {},
   "outputs": [
    {
     "name": "stdout",
     "output_type": "stream",
     "text": [
      "Model: \"vgg19\"\n",
      "_________________________________________________________________\n",
      "Layer (type)                 Output Shape              Param #   \n",
      "=================================================================\n",
      "input_1 (InputLayer)         [(None, 300, 400, 3)]     0         \n",
      "_________________________________________________________________\n",
      "block1_conv1 (Conv2D)        (None, 300, 400, 64)      1792      \n",
      "_________________________________________________________________\n",
      "block1_conv2 (Conv2D)        (None, 300, 400, 64)      36928     \n",
      "_________________________________________________________________\n",
      "block1_pool (MaxPooling2D)   (None, 150, 200, 64)      0         \n",
      "_________________________________________________________________\n",
      "block2_conv1 (Conv2D)        (None, 150, 200, 128)     73856     \n",
      "_________________________________________________________________\n",
      "block2_conv2 (Conv2D)        (None, 150, 200, 128)     147584    \n",
      "_________________________________________________________________\n",
      "block2_pool (MaxPooling2D)   (None, 75, 100, 128)      0         \n",
      "_________________________________________________________________\n",
      "block3_conv1 (Conv2D)        (None, 75, 100, 256)      295168    \n",
      "_________________________________________________________________\n",
      "block3_conv2 (Conv2D)        (None, 75, 100, 256)      590080    \n",
      "_________________________________________________________________\n",
      "block3_conv3 (Conv2D)        (None, 75, 100, 256)      590080    \n",
      "_________________________________________________________________\n",
      "block3_conv4 (Conv2D)        (None, 75, 100, 256)      590080    \n",
      "_________________________________________________________________\n",
      "block3_pool (MaxPooling2D)   (None, 37, 50, 256)       0         \n",
      "_________________________________________________________________\n",
      "block4_conv1 (Conv2D)        (None, 37, 50, 512)       1180160   \n",
      "_________________________________________________________________\n",
      "block4_conv2 (Conv2D)        (None, 37, 50, 512)       2359808   \n",
      "_________________________________________________________________\n",
      "block4_conv3 (Conv2D)        (None, 37, 50, 512)       2359808   \n",
      "_________________________________________________________________\n",
      "block4_conv4 (Conv2D)        (None, 37, 50, 512)       2359808   \n",
      "_________________________________________________________________\n",
      "block4_pool (MaxPooling2D)   (None, 18, 25, 512)       0         \n",
      "_________________________________________________________________\n",
      "block5_conv1 (Conv2D)        (None, 18, 25, 512)       2359808   \n",
      "_________________________________________________________________\n",
      "block5_conv2 (Conv2D)        (None, 18, 25, 512)       2359808   \n",
      "_________________________________________________________________\n",
      "block5_conv3 (Conv2D)        (None, 18, 25, 512)       2359808   \n",
      "_________________________________________________________________\n",
      "block5_conv4 (Conv2D)        (None, 18, 25, 512)       2359808   \n",
      "_________________________________________________________________\n",
      "block5_pool (MaxPooling2D)   (None, 9, 12, 512)        0         \n",
      "=================================================================\n",
      "Total params: 20,024,384\n",
      "Trainable params: 20,024,384\n",
      "Non-trainable params: 0\n",
      "_________________________________________________________________\n"
     ]
    }
   ],
   "source": [
    "conv_base = VGG19(include_top=False, \n",
    "                         weights=\"imagenet\",  \n",
    "                         input_shape=(img_height, img_width, 3))\n",
    "\n",
    "conv_base.summary()\n"
   ]
  },
  {
   "cell_type": "code",
   "execution_count": 6,
   "metadata": {},
   "outputs": [
    {
     "name": "stdout",
     "output_type": "stream",
     "text": [
      "Model: \"sequential\"\n",
      "_________________________________________________________________\n",
      "Layer (type)                 Output Shape              Param #   \n",
      "=================================================================\n",
      "vgg19 (Model)                (None, 9, 12, 512)        20024384  \n",
      "_________________________________________________________________\n",
      "global_average_pooling2d (Gl (None, 512)               0         \n",
      "_________________________________________________________________\n",
      "dense (Dense)                (None, 512)               262656    \n",
      "_________________________________________________________________\n",
      "dropout (Dropout)            (None, 512)               0         \n",
      "_________________________________________________________________\n",
      "dense_1 (Dense)              (None, 23)                11799     \n",
      "=================================================================\n",
      "Total params: 20,298,839\n",
      "Trainable params: 20,298,839\n",
      "Non-trainable params: 0\n",
      "_________________________________________________________________\n"
     ]
    }
   ],
   "source": [
    "model = Sequential()\n",
    "model.add(conv_base)\n",
    "model.add(GlobalAveragePooling2D())\n",
    "model.add(Dense(units=512, activation=\"relu\", kernel_initializer=\"he_normal\"))\n",
    "model.add(Dropout(rate=0.5))\n",
    "model.add(Dense(units=23, activation=\"softmax\"))\n",
    "\n",
    "model.summary()"
   ]
  },
  {
   "cell_type": "code",
   "execution_count": 7,
   "metadata": {},
   "outputs": [],
   "source": [
    "conv_base.trainable = True\n",
    "# only unfreeze the last conv block (block5_convx) \n",
    "for layer in conv_base.layers:\n",
    "    #if layer.name in ['block5_conv4']:\n",
    "    #    layer.trainable = True\n",
    "  \n",
    "    if layer.name not in ['block5_conv1','block5_conv2','block5_conv3', 'block5_conv4']:\n",
    "        layer.trainable = False"
   ]
  },
  {
   "cell_type": "code",
   "execution_count": 8,
   "metadata": {},
   "outputs": [
    {
     "name": "stdout",
     "output_type": "stream",
     "text": [
      "Model: \"sequential\"\n",
      "_________________________________________________________________\n",
      "Layer (type)                 Output Shape              Param #   \n",
      "=================================================================\n",
      "vgg19 (Model)                (None, 9, 12, 512)        20024384  \n",
      "_________________________________________________________________\n",
      "global_average_pooling2d (Gl (None, 512)               0         \n",
      "_________________________________________________________________\n",
      "dense (Dense)                (None, 512)               262656    \n",
      "_________________________________________________________________\n",
      "dropout (Dropout)            (None, 512)               0         \n",
      "_________________________________________________________________\n",
      "dense_1 (Dense)              (None, 23)                11799     \n",
      "=================================================================\n",
      "Total params: 20,298,839\n",
      "Trainable params: 9,713,687\n",
      "Non-trainable params: 10,585,152\n",
      "_________________________________________________________________\n"
     ]
    }
   ],
   "source": [
    "model.summary()"
   ]
  },
  {
   "cell_type": "code",
   "execution_count": 9,
   "metadata": {},
   "outputs": [],
   "source": [
    "model.compile(loss=\"sparse_categorical_crossentropy\", \n",
    "              optimizer=Adam(lr=0.0001),\n",
    "              metrics=[\"accuracy\"])"
   ]
  },
  {
   "cell_type": "code",
   "execution_count": 10,
   "metadata": {},
   "outputs": [],
   "source": [
    "datagen = ImageDataGenerator(rescale=1. / 255)\n",
    "\n"
   ]
  },
  {
   "cell_type": "code",
   "execution_count": 11,
   "metadata": {},
   "outputs": [
    {
     "name": "stdout",
     "output_type": "stream",
     "text": [
      "Found 10806 images belonging to 23 classes.\n",
      "Found 2689 images belonging to 23 classes.\n"
     ]
    }
   ],
   "source": [
    "train_gen = datagen.flow_from_directory(train_path, \n",
    "                                        target_size=(img_height, img_width), \n",
    "                                        class_mode='binary', \n",
    "                                        batch_size=4, \n",
    "                                        shuffle=False)\n",
    "\n",
    "valid_gen = datagen.flow_from_directory(valid_path, \n",
    "                                        target_size=(img_height, img_width), \n",
    "                                        class_mode='binary', \n",
    "                                        batch_size=4, \n",
    "                                        shuffle=False)"
   ]
  },
  {
   "cell_type": "code",
   "execution_count": 12,
   "metadata": {},
   "outputs": [
    {
     "data": {
      "text/plain": [
       "{'abraham_grampa_simpson': 0,\n",
       " 'agnes_skinner': 1,\n",
       " 'apu_nahasapeemapetilon': 2,\n",
       " 'barney_gumble': 3,\n",
       " 'bart_simpson': 4,\n",
       " 'carl_carlson': 5,\n",
       " 'charles_montgomery_burns': 6,\n",
       " 'chief_wiggum': 7,\n",
       " 'cletus_spuckler': 8,\n",
       " 'comic_book_guy': 9,\n",
       " 'disco_stu': 10,\n",
       " 'edna_krabappel': 11,\n",
       " 'fat_tony': 12,\n",
       " 'gil': 13,\n",
       " 'groundskeeper_willie': 14,\n",
       " 'homer_simpson': 15,\n",
       " 'kent_brockman': 16,\n",
       " 'krusty_the_clown': 17,\n",
       " 'lenny_leonard': 18,\n",
       " 'lionel_hutz': 19,\n",
       " 'lisa_simpson': 20,\n",
       " 'maggie_simpson': 21,\n",
       " 'marge_simpson': 22}"
      ]
     },
     "execution_count": 12,
     "metadata": {},
     "output_type": "execute_result"
    }
   ],
   "source": [
    "train_gen.class_indices"
   ]
  },
  {
   "cell_type": "code",
   "execution_count": 13,
   "metadata": {},
   "outputs": [],
   "source": [
    "train_steps_per_epoch = int(np.ceil(train_gen.n * 1. / train_gen.batch_size))\n",
    "valid_steps_per_epoch = int(np.ceil(valid_gen.n * 1. / valid_gen.batch_size))"
   ]
  },
  {
   "cell_type": "code",
   "execution_count": 14,
   "metadata": {},
   "outputs": [
    {
     "name": "stdout",
     "output_type": "stream",
     "text": [
      "2702\n"
     ]
    }
   ],
   "source": [
    "print(train_steps_per_epoch)"
   ]
  },
  {
   "cell_type": "code",
   "execution_count": 15,
   "metadata": {},
   "outputs": [
    {
     "name": "stdout",
     "output_type": "stream",
     "text": [
      "673\n"
     ]
    }
   ],
   "source": [
    "print(valid_steps_per_epoch)"
   ]
  },
  {
   "cell_type": "code",
   "execution_count": 16,
   "metadata": {},
   "outputs": [
    {
     "name": "stdout",
     "output_type": "stream",
     "text": [
      "WARNING:tensorflow:sample_weight modes were coerced from\n",
      "  ...\n",
      "    to  \n",
      "  ['...']\n",
      "WARNING:tensorflow:sample_weight modes were coerced from\n",
      "  ...\n",
      "    to  \n",
      "  ['...']\n",
      "Train for 2702 steps, validate for 673 steps\n",
      "Epoch 1/10\n",
      "2702/2702 [==============================] - 401s 149ms/step - loss: 1.9256 - accuracy: 0.4311 - val_loss: 0.7503 - val_accuracy: 0.8144\n",
      "Epoch 2/10\n",
      "2702/2702 [==============================] - 396s 147ms/step - loss: 0.5914 - accuracy: 0.8524 - val_loss: 0.4381 - val_accuracy: 0.8866\n",
      "Epoch 3/10\n",
      "2702/2702 [==============================] - 400s 148ms/step - loss: 0.3774 - accuracy: 0.9022 - val_loss: 0.3571 - val_accuracy: 0.9085\n",
      "Epoch 4/10\n",
      "2702/2702 [==============================] - 402s 149ms/step - loss: 0.2717 - accuracy: 0.9283 - val_loss: 0.3933 - val_accuracy: 0.9104\n",
      "Epoch 5/10\n",
      "2702/2702 [==============================] - 403s 149ms/step - loss: 0.2119 - accuracy: 0.9458 - val_loss: 0.3132 - val_accuracy: 0.9305\n",
      "Epoch 6/10\n",
      "2702/2702 [==============================] - 403s 149ms/step - loss: 0.1575 - accuracy: 0.9597 - val_loss: 0.3687 - val_accuracy: 0.9290\n",
      "Epoch 7/10\n",
      "2702/2702 [==============================] - 405s 150ms/step - loss: 0.1301 - accuracy: 0.9649 - val_loss: 0.3121 - val_accuracy: 0.9424\n",
      "Epoch 8/10\n",
      "2702/2702 [==============================] - 405s 150ms/step - loss: 0.1212 - accuracy: 0.9722 - val_loss: 0.2854 - val_accuracy: 0.9424\n",
      "Epoch 9/10\n",
      "2702/2702 [==============================] - 405s 150ms/step - loss: 0.1109 - accuracy: 0.9708 - val_loss: 0.2942 - val_accuracy: 0.9412\n",
      "Epoch 10/10\n",
      "2702/2702 [==============================] - 405s 150ms/step - loss: 0.0723 - accuracy: 0.9834 - val_loss: 0.3548 - val_accuracy: 0.9342\n"
     ]
    }
   ],
   "source": [
    "history = model.fit(\n",
    "      train_gen,\n",
    "      steps_per_epoch=train_steps_per_epoch,\n",
    "      epochs=10,\n",
    "      validation_data=valid_gen, \n",
    "      validation_steps=valid_steps_per_epoch,\n",
    "      verbose=1)\n"
   ]
  },
  {
   "cell_type": "code",
   "execution_count": 17,
   "metadata": {},
   "outputs": [
    {
     "data": {
      "image/png": "[encoded data removed]",
      "text/plain": [
       "<Figure size 1080x432 with 2 Axes>"
      ]
     },
     "metadata": {
      "needs_background": "light"
     },
     "output_type": "display_data"
    }
   ],
   "source": [
    "plt.figure(figsize=(15, 6))\n",
    "plt.suptitle(\"Training progress for pretrained model\", fontsize=20)\n",
    "\n",
    "plt.subplot(121)\n",
    "plt.plot(history.history[\"loss\"], label=\"Train\")\n",
    "plt.plot(history.history[\"val_loss\"], label=\"Validation\")\n",
    "plt.legend()\n",
    "plt.ylabel(\"Crossentropy loss\")\n",
    "plt.xlabel(\"Epoch\")\n",
    "\n",
    "plt.subplot(122)\n",
    "plt.plot(np.array(history.history[\"accuracy\"]) * 100, label=\"Train\")\n",
    "plt.plot(np.array(history.history[\"val_accuracy\"]) * 100, label=\"Validation\")\n",
    "plt.legend()\n",
    "plt.ylabel(\"Accuracy, %\")\n",
    "plt.xlabel(\"Epoch\");"
   ]
  },
  {
   "cell_type": "code",
   "execution_count": 22,
   "metadata": {},
   "outputs": [],
   "source": [
    "y_pred = model.predict(valid_gen)\n",
    "y_valid = np.array(valid_gen.classes)"
   ]
  },
  {
   "cell_type": "code",
   "execution_count": 23,
   "metadata": {},
   "outputs": [
    {
     "name": "stdout",
     "output_type": "stream",
     "text": [
      "              precision    recall  f1-score   support\n",
      "\n",
      "           0       1.00      0.89      0.94       182\n",
      "           1       1.00      0.12      0.22         8\n",
      "           2       0.94      0.97      0.96       124\n",
      "           3       1.00      0.52      0.69        21\n",
      "           4       0.97      0.96      0.96       268\n",
      "           5       1.00      0.74      0.85        19\n",
      "           6       0.97      0.93      0.95       238\n",
      "           7       0.94      0.95      0.95       197\n",
      "           8       0.90      1.00      0.95         9\n",
      "           9       0.94      0.88      0.91        93\n",
      "          10       0.00      0.00      0.00         1\n",
      "          11       0.98      0.93      0.96        91\n",
      "          12       0.80      0.80      0.80         5\n",
      "          13       1.00      0.60      0.75         5\n",
      "          14       0.35      0.92      0.51        24\n",
      "          15       0.88      0.95      0.92       449\n",
      "          16       0.92      0.99      0.96        99\n",
      "          17       1.00      0.95      0.97       241\n",
      "          18       0.82      0.90      0.86        62\n",
      "          20       0.96      0.94      0.95       270\n",
      "          21       0.75      0.72      0.73        25\n",
      "          22       1.00      0.98      0.99       258\n",
      "\n",
      "    accuracy                           0.93      2689\n",
      "   macro avg       0.87      0.80      0.81      2689\n",
      "weighted avg       0.95      0.93      0.94      2689\n",
      "\n",
      "Accuracy = 93.4%\n"
     ]
    },
    {
     "name": "stderr",
     "output_type": "stream",
     "text": [
      "D:\\Anaconda3\\envs\\tf2-gpu\\lib\\site-packages\\sklearn\\metrics\\classification.py:1437: UndefinedMetricWarning: Precision and F-score are ill-defined and being set to 0.0 in labels with no predicted samples.\n",
      "  'precision', 'predicted', average, warn_for)\n"
     ]
    }
   ],
   "source": [
    "y_pred = np.argmax(y_pred, axis = 1)\n",
    "print(classification_report(y_valid, y_pred))\n",
    "print(\"Accuracy = {:.1f}%\".format(accuracy_score(y_valid, y_pred) * 100))"
   ]
  },
  {
   "cell_type": "code",
   "execution_count": 24,
   "metadata": {},
   "outputs": [],
   "source": [
    "from tensorflow.keras.applications.vgg19 import preprocess_input\n",
    "from tensorflow.keras.preprocessing import image\n",
    "\n",
    "def predict_image(model, img_path, preprocess_input_fn, target_size=(img_height, img_width)):\n",
    "    img = image.load_img(img_path, target_size=target_size)\n",
    "    x = image.img_to_array(img)\n",
    "    x = np.expand_dims(x, axis=0)\n",
    "    x = preprocess_input_fn(x)\n",
    "    preds = model.predict(x)\n",
    "\n",
    "    return preds"
   ]
  },
  {
   "cell_type": "code",
   "execution_count": 32,
   "metadata": {},
   "outputs": [
    {
     "name": "stdout",
     "output_type": "stream",
     "text": [
      "bart_simpson\n"
     ]
    }
   ],
   "source": [
    "img_path = 'data/test/bart_simpson_2.jpg'\n",
    "pred_class = np.argmax(predict_image(model, img_path, preprocess_input), axis=1)[0]\n",
    "target_names = list(train_gen.class_indices.keys())\n",
    "print(target_names[pred_class])"
   ]
  },
  {
   "cell_type": "code",
   "execution_count": null,
   "metadata": {},
   "outputs": [],
   "source": []
  }
 ],
 "metadata": {
  "anaconda-cloud": {},
  "kernelspec": {
   "display_name": "Python 3",
   "language": "python",
   "name": "python3"
  },
  "language_info": {
   "codemirror_mode": {
    "name": "ipython",
    "version": 3
   },
   "file_extension": ".py",
   "mimetype": "text/x-python",
   "name": "python",
   "nbconvert_exporter": "python",
   "pygments_lexer": "ipython3",
   "version": "3.7.5"
  },
  "toc": {
   "colors": {
    "hover_highlight": "#DAA520",
    "navigate_num": "#000000",
    "navigate_text": "#333333",
    "running_highlight": "#FF0000",
    "selected_highlight": "#FFD700",
    "sidebar_border": "#EEEEEE",
    "wrapper_background": "#FFFFFF"
   },
   "moveMenuLeft": true,
   "nav_menu": {
    "height": "12px",
    "width": "252px"
   },
   "navigate_menu": true,
   "number_sections": true,
   "sideBar": true,
   "threshold": 4,
   "toc_cell": false,
   "toc_section_display": "block",
   "toc_window_display": false,
   "widenNotebook": false
  }
 },
 "nbformat": 4,
 "nbformat_minor": 4
}
