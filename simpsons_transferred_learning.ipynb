{
 "cells": [
  {
   "cell_type": "markdown",
   "metadata": {},
   "source": [
    "<a href=\"https://colab.research.google.com/github/nyp-sit/sdaai-pdc2-students/blob/master/iti107/session-3/improved_model.ipynb\" target=\"_parent\"><img src=\"https://colab.research.google.com/assets/colab-badge.svg\" alt=\"Open In Colab\" align=\"left\"/></a>"
   ]
  },
  {
   "cell_type": "markdown",
   "metadata": {},
   "source": [
    "# Simpsons Characters recognition using transfer learning (VGG19)\n",
    "\n",
    "The Simpsons Characters dataset is obtained from https://www.kaggle.com/alexattia/the-simpsons-characters-dataset.\n",
    "I only used 23 characters from the dataset. There are 13495 images for the 23 characters.\n",
    "\n",
    "I use transfer learning in the  baseline model for this experiment. I make use of the model (VGG19) that is already trained on ImageNet and use the convolutional layers as feature extractor and trained a classifier specifically for the Simpsons Characters classification task. The training was done using Nvidia GTX 1660 TI GPU.\n"
   ]
  },
  {
   "cell_type": "code",
   "execution_count": 1,
   "metadata": {},
   "outputs": [],
   "source": [
    "from __future__ import print_function\n",
    "\n",
    "import os\n",
    "import json\n",
    "import shutil\n",
    "import numpy as np\n",
    "\n",
    "from utils import prepare_data\n",
    "\n",
    "import tensorflow.compat.v1 as tf\n",
    "#tf.disable_v2_behavior()\n",
    "#import tensorflow as tf\n",
    "\n",
    "from tensorflow.keras.models import Model, load_model\n",
    "from tensorflow.keras.layers import Input, Flatten, Dense, Dropout, GlobalAveragePooling2D\n",
    "from tensorflow.keras.optimizers import Adam\n",
    "from tensorflow.keras.callbacks import ModelCheckpoint\n",
    "from tensorflow.keras.applications import VGG19\n",
    "from tensorflow.keras.preprocessing.image import ImageDataGenerator, array_to_img, img_to_array, load_img\n",
    "\n",
    "from sklearn.metrics import classification_report, accuracy_score, roc_auc_score, roc_curve, \\\n",
    "                            precision_recall_curve, average_precision_score, confusion_matrix\n",
    "import pickle\n",
    "import matplotlib\n",
    "import matplotlib.pyplot as plt\n",
    "\n",
    "\n",
    "config = tf.ConfigProto()\n",
    "config.gpu_options.allow_growth = True\n",
    "session = tf.Session(config=config)\n",
    "\n",
    "%matplotlib inline"
   ]
  },
  {
   "cell_type": "markdown",
   "metadata": {},
   "source": [
    "## Prepare Data\n",
    "\n",
    "Unzip the temp_data.zip into a temp_data folder. The utils.py will split the images to training and validation sets."
   ]
  },
  {
   "cell_type": "code",
   "execution_count": 2,
   "metadata": {},
   "outputs": [],
   "source": [
    "data_path = \"data\"\n",
    "models_path = \"models\"\n",
    "valid_size = 0.2\n",
    "FORCED_DATA_REWRITE = False"
   ]
  },
  {
   "cell_type": "code",
   "execution_count": 3,
   "metadata": {},
   "outputs": [],
   "source": [
    "train_path, valid_path = prepare_data(data_path=data_path, \n",
    "                                      valid_size=valid_size, \n",
    "                                      FORCED_DATA_REWRITE=FORCED_DATA_REWRITE)"
   ]
  },
  {
   "cell_type": "code",
   "execution_count": 4,
   "metadata": {},
   "outputs": [],
   "source": [
    "img_height, img_width = 300, 400"
   ]
  },
  {
   "cell_type": "markdown",
   "metadata": {},
   "source": [
    "## Pre-trained Model as Feature Extractor"
   ]
  },
  {
   "cell_type": "markdown",
   "metadata": {},
   "source": [
    "I use VGG19 as our pretrained model (you can choose any other pretrained model, such as ResNet, etc). Keras comes with a set of [pretrained models](https://www.tensorflow.org/api_docs/python/tf/keras/applications) you can choose from. In the following call, I load the model VGG19 without including the classification layers (`include_top=False`). For the weights, I specify to use the weights that was trained on ImageNet dataset."
   ]
  },
  {
   "cell_type": "code",
   "execution_count": 5,
   "metadata": {},
   "outputs": [
    {
     "name": "stdout",
     "output_type": "stream",
     "text": [
      "Model: \"vgg19\"\n",
      "_________________________________________________________________\n",
      "Layer (type)                 Output Shape              Param #   \n",
      "=================================================================\n",
      "input_1 (InputLayer)         [(None, 300, 400, 3)]     0         \n",
      "_________________________________________________________________\n",
      "block1_conv1 (Conv2D)        (None, 300, 400, 64)      1792      \n",
      "_________________________________________________________________\n",
      "block1_conv2 (Conv2D)        (None, 300, 400, 64)      36928     \n",
      "_________________________________________________________________\n",
      "block1_pool (MaxPooling2D)   (None, 150, 200, 64)      0         \n",
      "_________________________________________________________________\n",
      "block2_conv1 (Conv2D)        (None, 150, 200, 128)     73856     \n",
      "_________________________________________________________________\n",
      "block2_conv2 (Conv2D)        (None, 150, 200, 128)     147584    \n",
      "_________________________________________________________________\n",
      "block2_pool (MaxPooling2D)   (None, 75, 100, 128)      0         \n",
      "_________________________________________________________________\n",
      "block3_conv1 (Conv2D)        (None, 75, 100, 256)      295168    \n",
      "_________________________________________________________________\n",
      "block3_conv2 (Conv2D)        (None, 75, 100, 256)      590080    \n",
      "_________________________________________________________________\n",
      "block3_conv3 (Conv2D)        (None, 75, 100, 256)      590080    \n",
      "_________________________________________________________________\n",
      "block3_conv4 (Conv2D)        (None, 75, 100, 256)      590080    \n",
      "_________________________________________________________________\n",
      "block3_pool (MaxPooling2D)   (None, 37, 50, 256)       0         \n",
      "_________________________________________________________________\n",
      "block4_conv1 (Conv2D)        (None, 37, 50, 512)       1180160   \n",
      "_________________________________________________________________\n",
      "block4_conv2 (Conv2D)        (None, 37, 50, 512)       2359808   \n",
      "_________________________________________________________________\n",
      "block4_conv3 (Conv2D)        (None, 37, 50, 512)       2359808   \n",
      "_________________________________________________________________\n",
      "block4_conv4 (Conv2D)        (None, 37, 50, 512)       2359808   \n",
      "_________________________________________________________________\n",
      "block4_pool (MaxPooling2D)   (None, 18, 25, 512)       0         \n",
      "_________________________________________________________________\n",
      "block5_conv1 (Conv2D)        (None, 18, 25, 512)       2359808   \n",
      "_________________________________________________________________\n",
      "block5_conv2 (Conv2D)        (None, 18, 25, 512)       2359808   \n",
      "_________________________________________________________________\n",
      "block5_conv3 (Conv2D)        (None, 18, 25, 512)       2359808   \n",
      "_________________________________________________________________\n",
      "block5_conv4 (Conv2D)        (None, 18, 25, 512)       2359808   \n",
      "_________________________________________________________________\n",
      "block5_pool (MaxPooling2D)   (None, 9, 12, 512)        0         \n",
      "=================================================================\n",
      "Total params: 20,024,384\n",
      "Trainable params: 20,024,384\n",
      "Non-trainable params: 0\n",
      "_________________________________________________________________\n"
     ]
    }
   ],
   "source": [
    "model_pretrained = VGG19(include_top=False, \n",
    "                         weights=\"imagenet\",  \n",
    "                         input_shape=(img_height, img_width, 3))\n",
    "\n",
    "model_pretrained.summary()"
   ]
  },
  {
   "cell_type": "code",
   "execution_count": 6,
   "metadata": {},
   "outputs": [],
   "source": [
    "datagen = ImageDataGenerator(rescale=1. / 255)"
   ]
  },
  {
   "cell_type": "code",
   "execution_count": 7,
   "metadata": {},
   "outputs": [
    {
     "name": "stdout",
     "output_type": "stream",
     "text": [
      "Found 10806 images belonging to 23 classes.\n",
      "Found 2689 images belonging to 23 classes.\n"
     ]
    }
   ],
   "source": [
    "train_gen = datagen.flow_from_directory(train_path, \n",
    "                                        target_size=(img_height, img_width), \n",
    "                                        class_mode=None, \n",
    "                                        batch_size=8, \n",
    "                                        shuffle=False)\n",
    "\n",
    "valid_gen = datagen.flow_from_directory(valid_path, \n",
    "                                        target_size=(img_height, img_width), \n",
    "                                        class_mode=None, \n",
    "                                        batch_size=8, \n",
    "                                        shuffle=False)"
   ]
  },
  {
   "cell_type": "code",
   "execution_count": 8,
   "metadata": {},
   "outputs": [
    {
     "data": {
      "text/plain": [
       "{'abraham_grampa_simpson': 0,\n",
       " 'agnes_skinner': 1,\n",
       " 'apu_nahasapeemapetilon': 2,\n",
       " 'barney_gumble': 3,\n",
       " 'bart_simpson': 4,\n",
       " 'carl_carlson': 5,\n",
       " 'charles_montgomery_burns': 6,\n",
       " 'chief_wiggum': 7,\n",
       " 'cletus_spuckler': 8,\n",
       " 'comic_book_guy': 9,\n",
       " 'disco_stu': 10,\n",
       " 'edna_krabappel': 11,\n",
       " 'fat_tony': 12,\n",
       " 'gil': 13,\n",
       " 'groundskeeper_willie': 14,\n",
       " 'homer_simpson': 15,\n",
       " 'kent_brockman': 16,\n",
       " 'krusty_the_clown': 17,\n",
       " 'lenny_leonard': 18,\n",
       " 'lionel_hutz': 19,\n",
       " 'lisa_simpson': 20,\n",
       " 'maggie_simpson': 21,\n",
       " 'marge_simpson': 22}"
      ]
     },
     "execution_count": 8,
     "metadata": {},
     "output_type": "execute_result"
    }
   ],
   "source": [
    "train_gen.class_indices"
   ]
  },
  {
   "cell_type": "code",
   "execution_count": 9,
   "metadata": {},
   "outputs": [],
   "source": [
    "train_steps_per_epoch = int(np.ceil(train_gen.n * 1. / train_gen.batch_size))\n",
    "valid_steps_per_epoch = int(np.ceil(valid_gen.n * 1. / valid_gen.batch_size))"
   ]
  },
  {
   "cell_type": "code",
   "execution_count": 10,
   "metadata": {},
   "outputs": [],
   "source": [
    "RESTORE_FEATURES = True"
   ]
  },
  {
   "cell_type": "markdown",
   "metadata": {},
   "source": [
    "### Extracting features on the train set \n",
    "\n",
    "I use `predict_generator()` to loop through all the train images (and also the validation images). The output will be the features spit out by the convolutional base. I will then use these features as our training samples instead of the original images."
   ]
  },
  {
   "cell_type": "code",
   "execution_count": 11,
   "metadata": {},
   "outputs": [
    {
     "name": "stdout",
     "output_type": "stream",
     "text": [
      "Features are restored!\n"
     ]
    }
   ],
   "source": [
    "if RESTORE_FEATURES:\n",
    "    try:\n",
    "        X_train = np.load(os.path.join(train_path, \"train_features.npy\"))\n",
    "        y_train = np.load(os.path.join(train_path, \"train_classes.npy\"))\n",
    "        X_valid = np.load(os.path.join(valid_path, \"valid_features.npy\"))\n",
    "        y_valid = np.load(os.path.join(valid_path, \"valid_classes.npy\"))\n",
    "        print(\"Features are restored!\")\n",
    "    except:\n",
    "        RESTORE_FEATURES = False\n",
    "\n",
    "if not RESTORE_FEATURES:\n",
    "    X_train = model_pretrained.predict_generator(train_gen, \n",
    "                                                 steps=train_steps_per_epoch, \n",
    "                                                 verbose=1)\n",
    "    X_valid = model_pretrained.predict_generator(valid_gen, \n",
    "                                                 steps=valid_steps_per_epoch, \n",
    "                                                 verbose=1)\n",
    "    \n",
    "    y_train = train_gen.classes\n",
    "    y_valid = valid_gen.classes\n",
    "    \n",
    "    np.save(os.path.join(train_path, \"train_features.npy\"), X_train)\n",
    "    np.save(os.path.join(train_path, \"train_classes.npy\"), y_train)\n",
    "    np.save(os.path.join(valid_path, \"valid_features.npy\"), X_valid)\n",
    "    np.save(os.path.join(valid_path, \"valid_classes.npy\"), y_valid)\n",
    "    \n",
    "    print(\"Features are calculated!\")"
   ]
  },
  {
   "cell_type": "markdown",
   "metadata": {},
   "source": [
    "## Classification model\n",
    "\n",
    "The Classification model is built using a GAP layer, followed by Dense, a Droput and another Dense that output the prediction. \n",
    "\n"
   ]
  },
  {
   "cell_type": "code",
   "execution_count": 12,
   "metadata": {},
   "outputs": [],
   "source": [
    "LOAD_PRETRAINED_MODEL = False"
   ]
  },
  {
   "cell_type": "code",
   "execution_count": 13,
   "metadata": {},
   "outputs": [
    {
     "name": "stdout",
     "output_type": "stream",
     "text": [
      "Model has been built.\n"
     ]
    }
   ],
   "source": [
    "if LOAD_PRETRAINED_MODEL:\n",
    "    \n",
    "    try:\n",
    "        model_top = load_model(os.path.join(models_path, \"model_top.h5\"))\n",
    "        print(\"Model has been loaded!\")\n",
    "    except:\n",
    "        LOAD_PRETRAINED_MODEL = False\n",
    "        print(\"Load has failed. Model will be built from scratch.\")\n",
    "\n",
    "if not LOAD_PRETRAINED_MODEL:\n",
    "    \n",
    "    # Build the model here, you can use either Keras Sequential or functional API to build your model\n",
    "    inp = Input(shape=X_train.shape[1:])\n",
    "    fl = GlobalAveragePooling2D()(inp)\n",
    "    fc1 = Dense(units=512, activation=\"relu\", kernel_initializer=\"he_normal\")(fl)\n",
    "    dp1 = Dropout(rate=0.5)(fc1)\n",
    "    fc2 = Dense(units=1024, activation=\"relu\", kernel_initializer=\"he_normal\")(dp1)\n",
    "    dp2 = Dropout(rate=0.5)(fc2)\n",
    "    out = Dense(units=23, activation=\"softmax\")(dp2)\n",
    "\n",
    "    model_top = Model(inputs=[inp], outputs=[out], name=\"top\")\n",
    "    model_top.compile(loss=\"sparse_categorical_crossentropy\", \n",
    "                      optimizer=Adam(lr=0.0001), \n",
    "                      metrics=[\"accuracy\"])\n",
    "\n",
    "    \n",
    "    print(\"Model has been built.\")"
   ]
  },
  {
   "cell_type": "code",
   "execution_count": 14,
   "metadata": {},
   "outputs": [
    {
     "name": "stdout",
     "output_type": "stream",
     "text": [
      "Model: \"top\"\n",
      "_________________________________________________________________\n",
      "Layer (type)                 Output Shape              Param #   \n",
      "=================================================================\n",
      "input_2 (InputLayer)         [(None, 9, 12, 512)]      0         \n",
      "_________________________________________________________________\n",
      "global_average_pooling2d (Gl (None, 512)               0         \n",
      "_________________________________________________________________\n",
      "dense (Dense)                (None, 512)               262656    \n",
      "_________________________________________________________________\n",
      "dropout (Dropout)            (None, 512)               0         \n",
      "_________________________________________________________________\n",
      "dense_1 (Dense)              (None, 1024)              525312    \n",
      "_________________________________________________________________\n",
      "dropout_1 (Dropout)          (None, 1024)              0         \n",
      "_________________________________________________________________\n",
      "dense_2 (Dense)              (None, 23)                23575     \n",
      "=================================================================\n",
      "Total params: 811,543\n",
      "Trainable params: 811,543\n",
      "Non-trainable params: 0\n",
      "_________________________________________________________________\n"
     ]
    }
   ],
   "source": [
    "model_top.summary()"
   ]
  },
  {
   "cell_type": "markdown",
   "metadata": {},
   "source": [
    "I then train the classifier using the extracted features (X_train) for 100 epochs. The training will be fast, as there is only have very few parameters (around 800k) to train."
   ]
  },
  {
   "cell_type": "code",
   "execution_count": 15,
   "metadata": {},
   "outputs": [
    {
     "name": "stdout",
     "output_type": "stream",
     "text": [
      "Train on 10806 samples, validate on 2689 samples\n",
      "Epoch 1/100\n",
      "10806/10806 [==============================] - 6s 513us/sample - loss: 2.8200 - accuracy: 0.1408 - val_loss: 2.4625 - val_accuracy: 0.2343\n",
      "Epoch 2/100\n",
      "10806/10806 [==============================] - 2s 203us/sample - loss: 2.4738 - accuracy: 0.2318 - val_loss: 2.2274 - val_accuracy: 0.4042\n",
      "Epoch 3/100\n",
      "10806/10806 [==============================] - 2s 200us/sample - loss: 2.2325 - accuracy: 0.3320 - val_loss: 1.9413 - val_accuracy: 0.4768\n",
      "Epoch 4/100\n",
      "10806/10806 [==============================] - 2s 197us/sample - loss: 1.9994 - accuracy: 0.4160 - val_loss: 1.7267 - val_accuracy: 0.4998\n",
      "Epoch 5/100\n",
      "10806/10806 [==============================] - 2s 201us/sample - loss: 1.8146 - accuracy: 0.4717 - val_loss: 1.5436 - val_accuracy: 0.5731\n",
      "Epoch 6/100\n",
      "10806/10806 [==============================] - 2s 198us/sample - loss: 1.6670 - accuracy: 0.5204 - val_loss: 1.4223 - val_accuracy: 0.5883\n",
      "Epoch 7/100\n",
      "10806/10806 [==============================] - 2s 202us/sample - loss: 1.5481 - accuracy: 0.5559 - val_loss: 1.3292 - val_accuracy: 0.6091\n",
      "Epoch 8/100\n",
      "10806/10806 [==============================] - 2s 197us/sample - loss: 1.4429 - accuracy: 0.5866 - val_loss: 1.2284 - val_accuracy: 0.6538\n",
      "Epoch 9/100\n",
      "10806/10806 [==============================] - 2s 202us/sample - loss: 1.3786 - accuracy: 0.6037 - val_loss: 1.1728 - val_accuracy: 0.6649\n",
      "Epoch 10/100\n",
      "10806/10806 [==============================] - 2s 201us/sample - loss: 1.3162 - accuracy: 0.6297 - val_loss: 1.1239 - val_accuracy: 0.6794\n",
      "Epoch 11/100\n",
      "10806/10806 [==============================] - 2s 198us/sample - loss: 1.2644 - accuracy: 0.6350 - val_loss: 1.0782 - val_accuracy: 0.6869\n",
      "Epoch 12/100\n",
      "10806/10806 [==============================] - 2s 197us/sample - loss: 1.2070 - accuracy: 0.6484 - val_loss: 1.0297 - val_accuracy: 0.7058\n",
      "Epoch 13/100\n",
      "10806/10806 [==============================] - 2s 197us/sample - loss: 1.1744 - accuracy: 0.6619 - val_loss: 0.9951 - val_accuracy: 0.7136\n",
      "Epoch 14/100\n",
      "10806/10806 [==============================] - 2s 201us/sample - loss: 1.1358 - accuracy: 0.6739 - val_loss: 0.9736 - val_accuracy: 0.7159\n",
      "Epoch 15/100\n",
      "10806/10806 [==============================] - 2s 197us/sample - loss: 1.0888 - accuracy: 0.6910 - val_loss: 0.9353 - val_accuracy: 0.7282\n",
      "Epoch 16/100\n",
      "10806/10806 [==============================] - 2s 196us/sample - loss: 1.0588 - accuracy: 0.6982 - val_loss: 0.9208 - val_accuracy: 0.7319\n",
      "Epoch 17/100\n",
      "10806/10806 [==============================] - 2s 197us/sample - loss: 1.0365 - accuracy: 0.7026 - val_loss: 0.8870 - val_accuracy: 0.7438\n",
      "Epoch 18/100\n",
      "10806/10806 [==============================] - 2s 196us/sample - loss: 1.0016 - accuracy: 0.7106 - val_loss: 0.8652 - val_accuracy: 0.7516\n",
      "Epoch 19/100\n",
      "10806/10806 [==============================] - 2s 201us/sample - loss: 0.9670 - accuracy: 0.7235 - val_loss: 0.8533 - val_accuracy: 0.7482\n",
      "Epoch 20/100\n",
      "10806/10806 [==============================] - 2s 210us/sample - loss: 0.9422 - accuracy: 0.7303 - val_loss: 0.8339 - val_accuracy: 0.7527\n",
      "Epoch 21/100\n",
      "10806/10806 [==============================] - 2s 207us/sample - loss: 0.9307 - accuracy: 0.7317 - val_loss: 0.8261 - val_accuracy: 0.7534\n",
      "Epoch 22/100\n",
      "10806/10806 [==============================] - 2s 208us/sample - loss: 0.9099 - accuracy: 0.7373 - val_loss: 0.8051 - val_accuracy: 0.7672\n",
      "Epoch 23/100\n",
      "10806/10806 [==============================] - 2s 206us/sample - loss: 0.8935 - accuracy: 0.7393 - val_loss: 0.7902 - val_accuracy: 0.7702\n",
      "Epoch 24/100\n",
      "10806/10806 [==============================] - 2s 199us/sample - loss: 0.8726 - accuracy: 0.7466 - val_loss: 0.7736 - val_accuracy: 0.7731\n",
      "Epoch 25/100\n",
      "10806/10806 [==============================] - 2s 202us/sample - loss: 0.8541 - accuracy: 0.7493 - val_loss: 0.7765 - val_accuracy: 0.7810\n",
      "Epoch 26/100\n",
      "10806/10806 [==============================] - 2s 199us/sample - loss: 0.8343 - accuracy: 0.7543 - val_loss: 0.7508 - val_accuracy: 0.7836\n",
      "Epoch 27/100\n",
      "10806/10806 [==============================] - 2s 200us/sample - loss: 0.8247 - accuracy: 0.7599 - val_loss: 0.7432 - val_accuracy: 0.7795\n",
      "Epoch 28/100\n",
      "10806/10806 [==============================] - 2s 203us/sample - loss: 0.8016 - accuracy: 0.7686 - val_loss: 0.7324 - val_accuracy: 0.7895\n",
      "Epoch 29/100\n",
      "10806/10806 [==============================] - 2s 200us/sample - loss: 0.7958 - accuracy: 0.7661 - val_loss: 0.7231 - val_accuracy: 0.7888\n",
      "Epoch 30/100\n",
      "10806/10806 [==============================] - 2s 200us/sample - loss: 0.7771 - accuracy: 0.7735 - val_loss: 0.7203 - val_accuracy: 0.7947\n",
      "Epoch 31/100\n",
      "10806/10806 [==============================] - 2s 200us/sample - loss: 0.7734 - accuracy: 0.7771 - val_loss: 0.7067 - val_accuracy: 0.7943\n",
      "Epoch 32/100\n",
      "10806/10806 [==============================] - 2s 202us/sample - loss: 0.7609 - accuracy: 0.7796 - val_loss: 0.7003 - val_accuracy: 0.7932\n",
      "Epoch 33/100\n",
      "10806/10806 [==============================] - 2s 202us/sample - loss: 0.7288 - accuracy: 0.7872 - val_loss: 0.7009 - val_accuracy: 0.7932\n",
      "Epoch 34/100\n",
      "10806/10806 [==============================] - 2s 201us/sample - loss: 0.7310 - accuracy: 0.7860 - val_loss: 0.6872 - val_accuracy: 0.7973\n",
      "Epoch 35/100\n",
      "10806/10806 [==============================] - 2s 208us/sample - loss: 0.7195 - accuracy: 0.7851 - val_loss: 0.6747 - val_accuracy: 0.7992\n",
      "Epoch 36/100\n",
      "10806/10806 [==============================] - 2s 201us/sample - loss: 0.6999 - accuracy: 0.7895 - val_loss: 0.6686 - val_accuracy: 0.8010\n",
      "Epoch 37/100\n",
      "10806/10806 [==============================] - 2s 203us/sample - loss: 0.6861 - accuracy: 0.8001 - val_loss: 0.6646 - val_accuracy: 0.8081\n",
      "Epoch 38/100\n",
      "10806/10806 [==============================] - 2s 199us/sample - loss: 0.6893 - accuracy: 0.7979 - val_loss: 0.6559 - val_accuracy: 0.8092\n",
      "Epoch 39/100\n",
      "10806/10806 [==============================] - 2s 199us/sample - loss: 0.6768 - accuracy: 0.8000 - val_loss: 0.6529 - val_accuracy: 0.8129\n",
      "Epoch 40/100\n",
      "10806/10806 [==============================] - 2s 199us/sample - loss: 0.6697 - accuracy: 0.8000 - val_loss: 0.6478 - val_accuracy: 0.8122\n",
      "Epoch 41/100\n",
      "10806/10806 [==============================] - 2s 202us/sample - loss: 0.6543 - accuracy: 0.8074 - val_loss: 0.6579 - val_accuracy: 0.8074\n",
      "Epoch 42/100\n",
      "10806/10806 [==============================] - 2s 217us/sample - loss: 0.6508 - accuracy: 0.8066 - val_loss: 0.6394 - val_accuracy: 0.8178\n",
      "Epoch 43/100\n",
      "10806/10806 [==============================] - 2s 202us/sample - loss: 0.6346 - accuracy: 0.8139 - val_loss: 0.6329 - val_accuracy: 0.8170\n",
      "Epoch 44/100\n",
      "10806/10806 [==============================] - 2s 197us/sample - loss: 0.6350 - accuracy: 0.8114 - val_loss: 0.6315 - val_accuracy: 0.8185\n",
      "Epoch 45/100\n",
      "10806/10806 [==============================] - 2s 197us/sample - loss: 0.6184 - accuracy: 0.8163 - val_loss: 0.6315 - val_accuracy: 0.8181\n",
      "Epoch 46/100\n",
      "10806/10806 [==============================] - 2s 205us/sample - loss: 0.6054 - accuracy: 0.8206 - val_loss: 0.6150 - val_accuracy: 0.8193\n",
      "Epoch 47/100\n",
      "10806/10806 [==============================] - 2s 215us/sample - loss: 0.6076 - accuracy: 0.8188 - val_loss: 0.6031 - val_accuracy: 0.8245\n",
      "Epoch 48/100\n",
      "10806/10806 [==============================] - 2s 200us/sample - loss: 0.5955 - accuracy: 0.8231 - val_loss: 0.6007 - val_accuracy: 0.8274\n",
      "Epoch 49/100\n",
      "10806/10806 [==============================] - 2s 198us/sample - loss: 0.5849 - accuracy: 0.8233 - val_loss: 0.6033 - val_accuracy: 0.8248\n",
      "Epoch 50/100\n",
      "10806/10806 [==============================] - 2s 198us/sample - loss: 0.5807 - accuracy: 0.8284 - val_loss: 0.6043 - val_accuracy: 0.8274\n",
      "Epoch 51/100\n",
      "10806/10806 [==============================] - 2s 202us/sample - loss: 0.5722 - accuracy: 0.8322 - val_loss: 0.5936 - val_accuracy: 0.8267\n",
      "Epoch 52/100\n",
      "10806/10806 [==============================] - 2s 199us/sample - loss: 0.5659 - accuracy: 0.8264 - val_loss: 0.5912 - val_accuracy: 0.8271\n",
      "Epoch 53/100\n",
      "10806/10806 [==============================] - 2s 199us/sample - loss: 0.5530 - accuracy: 0.8330 - val_loss: 0.5913 - val_accuracy: 0.8260\n",
      "Epoch 54/100\n"
     ]
    },
    {
     "name": "stdout",
     "output_type": "stream",
     "text": [
      "10806/10806 [==============================] - 2s 197us/sample - loss: 0.5582 - accuracy: 0.8281 - val_loss: 0.5828 - val_accuracy: 0.8289\n",
      "Epoch 55/100\n",
      "10806/10806 [==============================] - 2s 197us/sample - loss: 0.5475 - accuracy: 0.8366 - val_loss: 0.5838 - val_accuracy: 0.8315\n",
      "Epoch 56/100\n",
      "10806/10806 [==============================] - 2s 200us/sample - loss: 0.5460 - accuracy: 0.8385 - val_loss: 0.5773 - val_accuracy: 0.8334\n",
      "Epoch 57/100\n",
      "10806/10806 [==============================] - 2s 197us/sample - loss: 0.5314 - accuracy: 0.8423 - val_loss: 0.5770 - val_accuracy: 0.8293\n",
      "Epoch 58/100\n",
      "10806/10806 [==============================] - 2s 196us/sample - loss: 0.5300 - accuracy: 0.8435 - val_loss: 0.5827 - val_accuracy: 0.8319\n",
      "Epoch 59/100\n",
      "10806/10806 [==============================] - 2s 198us/sample - loss: 0.5248 - accuracy: 0.8436 - val_loss: 0.5622 - val_accuracy: 0.8341\n",
      "Epoch 60/100\n",
      "10806/10806 [==============================] - 2s 201us/sample - loss: 0.5120 - accuracy: 0.8443 - val_loss: 0.5708 - val_accuracy: 0.8367\n",
      "Epoch 61/100\n",
      "10806/10806 [==============================] - 2s 198us/sample - loss: 0.5021 - accuracy: 0.8484 - val_loss: 0.5673 - val_accuracy: 0.8360\n",
      "Epoch 62/100\n",
      "10806/10806 [==============================] - 2s 198us/sample - loss: 0.5078 - accuracy: 0.8459 - val_loss: 0.5737 - val_accuracy: 0.8345\n",
      "Epoch 63/100\n",
      "10806/10806 [==============================] - 2s 198us/sample - loss: 0.4952 - accuracy: 0.8502 - val_loss: 0.5614 - val_accuracy: 0.8382\n",
      "Epoch 64/100\n",
      "10806/10806 [==============================] - 2s 198us/sample - loss: 0.4933 - accuracy: 0.8510 - val_loss: 0.5564 - val_accuracy: 0.8405\n",
      "Epoch 65/100\n",
      "10806/10806 [==============================] - 2s 200us/sample - loss: 0.4805 - accuracy: 0.8545 - val_loss: 0.5599 - val_accuracy: 0.8375\n",
      "Epoch 66/100\n",
      "10806/10806 [==============================] - 2s 198us/sample - loss: 0.4713 - accuracy: 0.8596 - val_loss: 0.5561 - val_accuracy: 0.8360\n",
      "Epoch 67/100\n",
      "10806/10806 [==============================] - 2s 198us/sample - loss: 0.4758 - accuracy: 0.8591 - val_loss: 0.5505 - val_accuracy: 0.8446\n",
      "Epoch 68/100\n",
      "10806/10806 [==============================] - 2s 198us/sample - loss: 0.4654 - accuracy: 0.8599 - val_loss: 0.5513 - val_accuracy: 0.8390\n",
      "Epoch 69/100\n",
      "10806/10806 [==============================] - 2s 200us/sample - loss: 0.4551 - accuracy: 0.8665 - val_loss: 0.5563 - val_accuracy: 0.8356\n",
      "Epoch 70/100\n",
      "10806/10806 [==============================] - 2s 217us/sample - loss: 0.4533 - accuracy: 0.8606 - val_loss: 0.5423 - val_accuracy: 0.8457\n",
      "Epoch 71/100\n",
      "10806/10806 [==============================] - 2s 211us/sample - loss: 0.4592 - accuracy: 0.8630 - val_loss: 0.5502 - val_accuracy: 0.8375\n",
      "Epoch 72/100\n",
      "10806/10806 [==============================] - 2s 205us/sample - loss: 0.4456 - accuracy: 0.8679 - val_loss: 0.5541 - val_accuracy: 0.8360\n",
      "Epoch 73/100\n",
      "10806/10806 [==============================] - 2s 201us/sample - loss: 0.4361 - accuracy: 0.8704 - val_loss: 0.5472 - val_accuracy: 0.8446\n",
      "Epoch 74/100\n",
      "10806/10806 [==============================] - 2s 205us/sample - loss: 0.4454 - accuracy: 0.8664 - val_loss: 0.5523 - val_accuracy: 0.8390\n",
      "Epoch 75/100\n",
      "10806/10806 [==============================] - 2s 202us/sample - loss: 0.4299 - accuracy: 0.8677 - val_loss: 0.5361 - val_accuracy: 0.8412\n",
      "Epoch 76/100\n",
      "10806/10806 [==============================] - 2s 202us/sample - loss: 0.4289 - accuracy: 0.8715 - val_loss: 0.5371 - val_accuracy: 0.8416\n",
      "Epoch 77/100\n",
      "10806/10806 [==============================] - 2s 201us/sample - loss: 0.4219 - accuracy: 0.8730 - val_loss: 0.5304 - val_accuracy: 0.8472\n",
      "Epoch 78/100\n",
      "10806/10806 [==============================] - 2s 201us/sample - loss: 0.4166 - accuracy: 0.8735 - val_loss: 0.5354 - val_accuracy: 0.8431\n",
      "Epoch 79/100\n",
      "10806/10806 [==============================] - 2s 201us/sample - loss: 0.4149 - accuracy: 0.8714 - val_loss: 0.5270 - val_accuracy: 0.8483\n",
      "Epoch 80/100\n",
      "10806/10806 [==============================] - 2s 198us/sample - loss: 0.4099 - accuracy: 0.8755 - val_loss: 0.5239 - val_accuracy: 0.8490\n",
      "Epoch 81/100\n",
      "10806/10806 [==============================] - 2s 202us/sample - loss: 0.4039 - accuracy: 0.8750 - val_loss: 0.5443 - val_accuracy: 0.8419\n",
      "Epoch 82/100\n",
      "10806/10806 [==============================] - 2s 202us/sample - loss: 0.4005 - accuracy: 0.8785 - val_loss: 0.5355 - val_accuracy: 0.8464\n",
      "Epoch 83/100\n",
      "10806/10806 [==============================] - 2s 202us/sample - loss: 0.3901 - accuracy: 0.8801 - val_loss: 0.5319 - val_accuracy: 0.8457\n",
      "Epoch 84/100\n",
      "10806/10806 [==============================] - 2s 205us/sample - loss: 0.3960 - accuracy: 0.8809 - val_loss: 0.5206 - val_accuracy: 0.8501\n",
      "Epoch 85/100\n",
      "10806/10806 [==============================] - 2s 202us/sample - loss: 0.3831 - accuracy: 0.8825 - val_loss: 0.5226 - val_accuracy: 0.8494\n",
      "Epoch 86/100\n",
      "10806/10806 [==============================] - 2s 202us/sample - loss: 0.3777 - accuracy: 0.8848 - val_loss: 0.5409 - val_accuracy: 0.8479\n",
      "Epoch 87/100\n",
      "10806/10806 [==============================] - 2s 200us/sample - loss: 0.3766 - accuracy: 0.8851 - val_loss: 0.5242 - val_accuracy: 0.8479\n",
      "Epoch 88/100\n",
      "10806/10806 [==============================] - 2s 204us/sample - loss: 0.3739 - accuracy: 0.8855 - val_loss: 0.5179 - val_accuracy: 0.8442\n",
      "Epoch 89/100\n",
      "10806/10806 [==============================] - 2s 200us/sample - loss: 0.3706 - accuracy: 0.8863 - val_loss: 0.5263 - val_accuracy: 0.8483\n",
      "Epoch 90/100\n",
      "10806/10806 [==============================] - 2s 200us/sample - loss: 0.3591 - accuracy: 0.8940 - val_loss: 0.5213 - val_accuracy: 0.8498\n",
      "Epoch 91/100\n",
      "10806/10806 [==============================] - 2s 200us/sample - loss: 0.3721 - accuracy: 0.8861 - val_loss: 0.5154 - val_accuracy: 0.8538\n",
      "Epoch 92/100\n",
      "10806/10806 [==============================] - 2s 200us/sample - loss: 0.3562 - accuracy: 0.8903 - val_loss: 0.5125 - val_accuracy: 0.8516\n",
      "Epoch 93/100\n",
      "10806/10806 [==============================] - 2s 205us/sample - loss: 0.3592 - accuracy: 0.8917 - val_loss: 0.5256 - val_accuracy: 0.8535\n",
      "Epoch 94/100\n",
      "10806/10806 [==============================] - 2s 201us/sample - loss: 0.3456 - accuracy: 0.8925 - val_loss: 0.5181 - val_accuracy: 0.8538\n",
      "Epoch 95/100\n",
      "10806/10806 [==============================] - 2s 203us/sample - loss: 0.3533 - accuracy: 0.8914 - val_loss: 0.5333 - val_accuracy: 0.8468\n",
      "Epoch 96/100\n",
      "10806/10806 [==============================] - 2s 202us/sample - loss: 0.3450 - accuracy: 0.8935 - val_loss: 0.5144 - val_accuracy: 0.8527\n",
      "Epoch 97/100\n",
      "10806/10806 [==============================] - 2s 204us/sample - loss: 0.3462 - accuracy: 0.8953 - val_loss: 0.5380 - val_accuracy: 0.8494\n",
      "Epoch 98/100\n",
      "10806/10806 [==============================] - 2s 202us/sample - loss: 0.3406 - accuracy: 0.8932 - val_loss: 0.5180 - val_accuracy: 0.8561\n",
      "Epoch 99/100\n",
      "10806/10806 [==============================] - 2s 202us/sample - loss: 0.3360 - accuracy: 0.8972 - val_loss: 0.5048 - val_accuracy: 0.8557\n",
      "Epoch 100/100\n",
      "10806/10806 [==============================] - 2s 202us/sample - loss: 0.3287 - accuracy: 0.8970 - val_loss: 0.5109 - val_accuracy: 0.8535\n",
      "Wall time: 3min 41s\n"
     ]
    }
   ],
   "source": [
    "if not LOAD_PRETRAINED_MODEL:\n",
    "    %time hist_top = model_top.fit(X_train, y_train, \\\n",
    "                                   epochs=100, \\\n",
    "                                   validation_data=(X_valid, y_valid), \\\n",
    "                                   verbose=1)\n",
    "    model_top.save(os.path.join(models_path, \"model_top.h5\"))\n",
    "    # save the history of training\n",
    "    with open(os.path.join(models_path, 'hist_top.history'), 'wb') as f:\n",
    "        pickle.dump(hist_top.history, f)\n",
    "    hist_top = hist_top.history\n",
    "else:\n",
    "    with open(os.path.join(models_path, 'hist_top.history'), 'rb') as f:\n",
    "        hist_top = pickle.load(f)\n",
    "    \n",
    "    print(\"Model has already been trained.\")"
   ]
  },
  {
   "cell_type": "code",
   "execution_count": 16,
   "metadata": {},
   "outputs": [
    {
     "data": {
      "image/png": "[encoded data removed]",
      "text/plain": [
       "<Figure size 1080x432 with 2 Axes>"
      ]
     },
     "metadata": {
      "needs_background": "light"
     },
     "output_type": "display_data"
    }
   ],
   "source": [
    "plt.figure(figsize=(15, 6))\n",
    "plt.suptitle(\"Training progress for pretrained model\", fontsize=20)\n",
    "\n",
    "plt.subplot(121)\n",
    "plt.plot(hist_top[\"loss\"], label=\"Train\")\n",
    "plt.plot(hist_top[\"val_loss\"], label=\"Validation\")\n",
    "plt.legend()\n",
    "plt.ylabel(\"Crossentropy loss\")\n",
    "plt.xlabel(\"Epoch\")\n",
    "\n",
    "plt.subplot(122)\n",
    "plt.plot(np.array(hist_top[\"accuracy\"]) * 100, label=\"Train\")\n",
    "plt.plot(np.array(hist_top[\"val_accuracy\"]) * 100, label=\"Validation\")\n",
    "plt.legend()\n",
    "plt.ylabel(\"Accuracy, %\")\n",
    "plt.xlabel(\"Epoch\");"
   ]
  },
  {
   "cell_type": "code",
   "execution_count": 17,
   "metadata": {},
   "outputs": [],
   "source": [
    "y_pred = model_top.predict(X_valid)\n",
    "y_pred = np.argmax(y_pred, axis = 1)"
   ]
  },
  {
   "cell_type": "code",
   "execution_count": 18,
   "metadata": {},
   "outputs": [
    {
     "name": "stdout",
     "output_type": "stream",
     "text": [
      "              precision    recall  f1-score   support\n",
      "\n",
      "           0       0.84      0.87      0.85       182\n",
      "           1       1.00      0.25      0.40         8\n",
      "           2       0.80      0.85      0.82       124\n",
      "           3       0.59      0.62      0.60        21\n",
      "           4       0.87      0.87      0.87       268\n",
      "           5       0.85      0.58      0.69        19\n",
      "           6       0.83      0.91      0.87       238\n",
      "           7       0.91      0.87      0.89       197\n",
      "           8       0.62      0.56      0.59         9\n",
      "           9       0.90      0.76      0.83        93\n",
      "          10       0.00      0.00      0.00         1\n",
      "          11       0.78      0.86      0.82        91\n",
      "          12       1.00      0.20      0.33         5\n",
      "          13       0.00      0.00      0.00         5\n",
      "          14       0.59      0.54      0.57        24\n",
      "          15       0.84      0.85      0.85       449\n",
      "          16       0.92      0.95      0.94        99\n",
      "          17       0.90      0.89      0.89       241\n",
      "          18       0.82      0.68      0.74        62\n",
      "          20       0.84      0.93      0.89       270\n",
      "          21       0.78      0.28      0.41        25\n",
      "          22       0.90      0.88      0.89       258\n",
      "\n",
      "    accuracy                           0.85      2689\n",
      "   macro avg       0.75      0.64      0.67      2689\n",
      "weighted avg       0.85      0.85      0.85      2689\n",
      "\n",
      "Accuracy = 85.3%\n"
     ]
    },
    {
     "name": "stderr",
     "output_type": "stream",
     "text": [
      "D:\\Anaconda3\\envs\\tf2-gpu\\lib\\site-packages\\sklearn\\metrics\\classification.py:1437: UndefinedMetricWarning: Precision and F-score are ill-defined and being set to 0.0 in labels with no predicted samples.\n",
      "  'precision', 'predicted', average, warn_for)\n"
     ]
    }
   ],
   "source": [
    "print(classification_report(y_valid, y_pred))\n",
    "print(\"Accuracy = {:.1f}%\".format(accuracy_score(y_valid, y_pred) * 100))"
   ]
  },
  {
   "cell_type": "markdown",
   "metadata": {},
   "source": [
    "## Prepare the model for deployment\n",
    "\n",
    "I then join the classification model back to the convolutional base and add an input layer of appropriate shape."
   ]
  },
  {
   "cell_type": "code",
   "execution_count": 19,
   "metadata": {},
   "outputs": [],
   "source": [
    "inp = Input(shape=(img_height, img_width, 3))\n",
    "pretrained_output = model_pretrained(inp)\n",
    "top_output = model_top(pretrained_output)"
   ]
  },
  {
   "cell_type": "code",
   "execution_count": 20,
   "metadata": {},
   "outputs": [],
   "source": [
    "model_final = Model(inputs=[inp], outputs=[top_output])\n",
    "model_final.compile(loss=\"sparse_categorical_crossentropy\", optimizer=\"Adam\", metrics=[\"accuracy\"])"
   ]
  },
  {
   "cell_type": "code",
   "execution_count": 21,
   "metadata": {},
   "outputs": [
    {
     "name": "stdout",
     "output_type": "stream",
     "text": [
      "Model: \"model\"\n",
      "_________________________________________________________________\n",
      "Layer (type)                 Output Shape              Param #   \n",
      "=================================================================\n",
      "input_3 (InputLayer)         [(None, 300, 400, 3)]     0         \n",
      "_________________________________________________________________\n",
      "vgg19 (Model)                (None, 9, 12, 512)        20024384  \n",
      "_________________________________________________________________\n",
      "top (Model)                  (None, 23)                811543    \n",
      "=================================================================\n",
      "Total params: 20,835,927\n",
      "Trainable params: 20,835,927\n",
      "Non-trainable params: 0\n",
      "_________________________________________________________________\n"
     ]
    }
   ],
   "source": [
    "model_final.summary()"
   ]
  },
  {
   "cell_type": "code",
   "execution_count": 22,
   "metadata": {},
   "outputs": [],
   "source": [
    "model_final.save(os.path.join(models_path, \"pretrained_full.model.h5\"))"
   ]
  },
  {
   "cell_type": "markdown",
   "metadata": {},
   "source": [
    "I then test the complete model using the validation set."
   ]
  },
  {
   "cell_type": "code",
   "execution_count": 23,
   "metadata": {},
   "outputs": [],
   "source": [
    "y_pred = model_final.predict_generator(valid_gen, valid_steps_per_epoch)\n",
    "y_valid = np.array(valid_gen.classes)"
   ]
  },
  {
   "cell_type": "code",
   "execution_count": 24,
   "metadata": {},
   "outputs": [
    {
     "name": "stdout",
     "output_type": "stream",
     "text": [
      "              precision    recall  f1-score   support\n",
      "\n",
      "           0       0.84      0.87      0.85       182\n",
      "           1       1.00      0.25      0.40         8\n",
      "           2       0.80      0.85      0.82       124\n",
      "           3       0.59      0.62      0.60        21\n",
      "           4       0.87      0.87      0.87       268\n",
      "           5       0.85      0.58      0.69        19\n",
      "           6       0.83      0.91      0.87       238\n",
      "           7       0.91      0.87      0.89       197\n",
      "           8       0.62      0.56      0.59         9\n",
      "           9       0.90      0.76      0.83        93\n",
      "          10       0.00      0.00      0.00         1\n",
      "          11       0.78      0.86      0.82        91\n",
      "          12       1.00      0.20      0.33         5\n",
      "          13       0.00      0.00      0.00         5\n",
      "          14       0.59      0.54      0.57        24\n",
      "          15       0.84      0.85      0.85       449\n",
      "          16       0.92      0.95      0.94        99\n",
      "          17       0.90      0.89      0.89       241\n",
      "          18       0.82      0.68      0.74        62\n",
      "          20       0.84      0.93      0.89       270\n",
      "          21       0.78      0.28      0.41        25\n",
      "          22       0.90      0.88      0.89       258\n",
      "\n",
      "    accuracy                           0.85      2689\n",
      "   macro avg       0.75      0.64      0.67      2689\n",
      "weighted avg       0.85      0.85      0.85      2689\n",
      "\n",
      "Accuracy = 85.3%\n"
     ]
    }
   ],
   "source": [
    "y_pred = np.argmax(y_pred, axis = 1)\n",
    "print(classification_report(y_valid, y_pred))\n",
    "print(\"Accuracy = {:.1f}%\".format(accuracy_score(y_valid, y_pred) * 100))"
   ]
  },
  {
   "cell_type": "markdown",
   "metadata": {},
   "source": [
    "I downloaded random Simpsons images from the internet to test using the model. Do note that the images would need to be preprocessed using the preprocess function of VGG19 before they can used by the model for prediction."
   ]
  },
  {
   "cell_type": "code",
   "execution_count": 25,
   "metadata": {},
   "outputs": [],
   "source": [
    "from tensorflow.keras.applications.vgg19 import preprocess_input\n",
    "from tensorflow.keras.preprocessing import image\n",
    "\n",
    "def predict_image(model, img_path, preprocess_input_fn, target_size=(img_height, img_width)):\n",
    "    img = image.load_img(img_path, target_size=target_size)\n",
    "    x = image.img_to_array(img)\n",
    "    x = np.expand_dims(x, axis=0)\n",
    "    x = preprocess_input_fn(x)\n",
    "    preds = model.predict(x)\n",
    "\n",
    "    return preds"
   ]
  },
  {
   "cell_type": "code",
   "execution_count": 26,
   "metadata": {},
   "outputs": [
    {
     "name": "stdout",
     "output_type": "stream",
     "text": [
      "bart_simpson\n"
     ]
    }
   ],
   "source": [
    "img_path = 'data/test/bart_simpson_2.jpg'\n",
    "pred_class = np.argmax(predict_image(model_final, img_path, preprocess_input), axis=1)[0]\n",
    "target_names = list(train_gen.class_indices.keys())\n",
    "print(target_names[pred_class])"
   ]
  },
  {
   "cell_type": "code",
   "execution_count": null,
   "metadata": {},
   "outputs": [],
   "source": []
  }
 ],
 "metadata": {
  "anaconda-cloud": {},
  "kernelspec": {
   "display_name": "Python 3",
   "language": "python",
   "name": "python3"
  },
  "language_info": {
   "codemirror_mode": {
    "name": "ipython",
    "version": 3
   },
   "file_extension": ".py",
   "mimetype": "text/x-python",
   "name": "python",
   "nbconvert_exporter": "python",
   "pygments_lexer": "ipython3",
   "version": "3.7.5"
  },
  "toc": {
   "colors": {
    "hover_highlight": "#DAA520",
    "navigate_num": "#000000",
    "navigate_text": "#333333",
    "running_highlight": "#FF0000",
    "selected_highlight": "#FFD700",
    "sidebar_border": "#EEEEEE",
    "wrapper_background": "#FFFFFF"
   },
   "moveMenuLeft": true,
   "nav_menu": {
    "height": "12px",
    "width": "252px"
   },
   "navigate_menu": true,
   "number_sections": true,
   "sideBar": true,
   "threshold": 4,
   "toc_cell": false,
   "toc_section_display": "block",
   "toc_window_display": false,
   "widenNotebook": false
  }
 },
 "nbformat": 4,
 "nbformat_minor": 4
}
