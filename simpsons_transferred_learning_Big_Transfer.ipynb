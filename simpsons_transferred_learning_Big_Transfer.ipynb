{
 "cells": [
  {
   "cell_type": "markdown",
   "metadata": {
    "colab_type": "text",
    "id": "view-in-github"
   },
   "source": [
    "<a href=\"https://colab.research.google.com/github/google-research/big_transfer/blob/master/colabs/big_transfer_tf2.ipynb\" target=\"_parent\"><img src=\"https://colab.research.google.com/assets/colab-badge.svg\" alt=\"Open In Colab\"/></a>\n"
   ]
  },
  {
   "cell_type": "markdown",
   "metadata": {
    "colab_type": "text",
    "id": "GXY0spPLdxkX"
   },
   "source": [
    "# Simpsons Characters recognition using transfer learning - BigTransfer (BiT)\n",
    "\n",
    "The below codes are adapted from the colab tutorial in https://colab.research.google.com/github/google-research/big_transfer/blob/master/colabs/big_transfer_tf2.ipynb\n",
    "\n",
    "The Simpsons Characters dataset is obtained from https://www.kaggle.com/alexattia/the-simpsons-characters-dataset.\n",
    "I only used 5 characters from the dataset. \n",
    "\n",
    "I use transfer learning in the  baseline model for this experiment. I make use of the BigTransfer model that is already trained on ImageNet and use the convolutional layers as feature extractor and trained a classifier specifically for the Simpsons Characters classification task. The training was done using Nvidia GTX 1660 TI GPU.\n"
   ]
  },
  {
   "cell_type": "code",
   "execution_count": 1,
   "metadata": {
    "cellView": "form",
    "colab": {},
    "colab_type": "code",
    "id": "pitZxiw5hHYq"
   },
   "outputs": [],
   "source": [
    "#@title Imports\n",
    "import tensorflow as tf\n",
    "import tensorflow_hub as hub\n",
    "\n",
    "import tensorflow_datasets as tfds\n",
    "\n",
    "import time\n",
    "\n",
    "from PIL import Image\n",
    "import requests\n",
    "from io import BytesIO\n",
    "\n",
    "import matplotlib.pyplot as plt\n",
    "import numpy as np\n",
    "\n",
    "import os\n",
    "import pathlib\n",
    "\n",
    "\n",
    "gpus = tf.config.experimental.list_physical_devices('GPU')\n",
    "tf.config.experimental.set_memory_growth(gpus[0], True)"
   ]
  },
  {
   "cell_type": "code",
   "execution_count": 2,
   "metadata": {
    "cellView": "form",
    "colab": {},
    "colab_type": "code",
    "id": "I3DBgilDnevv"
   },
   "outputs": [],
   "source": [
    "simpsons_labels = [\n",
    " 'bart_simpson',\n",
    " 'homer_simpson',\n",
    " 'lisa_simpson',\n",
    " 'maggie_simpson',\n",
    " 'marge_simpson']"
   ]
  },
  {
   "cell_type": "code",
   "execution_count": 3,
   "metadata": {
    "colab": {},
    "colab_type": "code",
    "id": "1i8HCwx28Ya2"
   },
   "outputs": [],
   "source": [
    "# Load model into KerasLayer\n",
    "model_url = \"https://tfhub.dev/google/bit/m-r50x1/1\"\n",
    "module = hub.KerasLayer(model_url)"
   ]
  },
  {
   "cell_type": "code",
   "execution_count": 4,
   "metadata": {
    "cellView": "form",
    "colab": {},
    "colab_type": "code",
    "id": "ewOVUVsvnSpo"
   },
   "outputs": [],
   "source": [
    "#@title Helper functions for loading image (hidden)\n",
    "\n",
    "def preprocess_image(image):\n",
    "  image = np.array(image)\n",
    "  # reshape into shape [batch_size, height, width, num_channels]\n",
    "  img_reshaped = tf.reshape(image, [1, image.shape[0], image.shape[1], image.shape[2]])\n",
    "  # Use `convert_image_dtype` to convert to floats in the [0,1] range.\n",
    "  image = tf.image.convert_image_dtype(img_reshaped, tf.float32)  \n",
    "  return image\n",
    "\n",
    "def load_image_from_url(url):\n",
    "  \"\"\"Returns an image with shape [1, height, width, num_channels].\"\"\"\n",
    "  response = requests.get(url)\n",
    "  image = Image.open(BytesIO(response.content))\n",
    "  image = preprocess_image(image)\n",
    "  return image"
   ]
  },
  {
   "cell_type": "code",
   "execution_count": 5,
   "metadata": {
    "cellView": "form",
    "colab": {},
    "colab_type": "code",
    "id": "P8fDpUyl75pT"
   },
   "outputs": [],
   "source": [
    "#@title Plotting helper functions (hidden)\n",
    "#@markdown Credits to Xiaohua Zhai, Lucas Beyer and Alex Kolesnikov from Brain Zurich, Google Research\n",
    "\n",
    "# Show the MAX_PREDS highest scoring labels:\n",
    "MAX_PREDS = 5\n",
    "# Do not show labels with lower score than this:\n",
    "MIN_SCORE = 0.8 \n",
    "\n",
    "def show_preds(logits, image, correct_label=None, tf_simpsons_logits=False):\n",
    "\n",
    "  if len(logits.shape) > 1:\n",
    "    logits = tf.reshape(logits, [-1])\n",
    "\n",
    "  fig, axes = plt.subplots(1, 2, figsize=(7, 4), squeeze=False)\n",
    "\n",
    "  ax1, ax2 = axes[0]\n",
    "\n",
    "  ax1.axis('off')\n",
    "  ax1.imshow(image)\n",
    "  if correct_label is not None:\n",
    "    ax1.set_title(simpsons_labels[correct_label])\n",
    "  classes = []\n",
    "  scores = []\n",
    "  logits_max = np.max(logits)\n",
    "  softmax_denominator = np.sum(np.exp(logits - logits_max))\n",
    "  for index, j in enumerate(np.argsort(logits)[-MAX_PREDS::][::-1]):\n",
    "    score = 1.0/(1.0 + np.exp(-logits[j]))\n",
    "    if score < MIN_SCORE: break\n",
    "    if not tf_simpsons_logits:\n",
    "      # predicting in imagenet label space\n",
    "      classes.append(imagenet_int_to_str[j])\n",
    "    else:\n",
    "      # predicting in tf_flowers label space\n",
    "      classes.append(simpsons_labels[j])\n",
    "    scores.append(np.exp(logits[j] - logits_max)/softmax_denominator*100)\n",
    "\n",
    "  ax2.barh(np.arange(len(scores)) + 0.1, scores)\n",
    "  ax2.set_xlim(0, 100)\n",
    "  ax2.set_yticks(np.arange(len(scores)))\n",
    "  ax2.yaxis.set_ticks_position('right')\n",
    "  ax2.set_yticklabels(classes, rotation=0, fontsize=14)\n",
    "  ax2.invert_xaxis()\n",
    "  ax2.invert_yaxis()\n",
    "  ax2.set_xlabel('Prediction probabilities', fontsize=11)"
   ]
  },
  {
   "cell_type": "code",
   "execution_count": 6,
   "metadata": {},
   "outputs": [],
   "source": [
    "data_dir = pathlib.Path(\"D:\\\\git\\\\deeplearning\\\\simpsons\\\\simpsons\\\\big_data\")\n",
    "\n",
    "IMG_HEIGHT = 224\n",
    "IMG_WIDTH = 224\n",
    "\n",
    "CLASS_NAMES = simpsons_labels # from plotting helper functions above\n",
    "NUM_CLASSES = len(CLASS_NAMES)\n",
    "num_examples = len(list(data_dir.glob('*/*.jpg')))\n",
    "\n",
    "def get_label(file_path):\n",
    "  # convert the path to a list of path components\n",
    "  parts = tf.strings.split(file_path, os.path.sep)\n",
    "  # The second to last is the class-directory\n",
    "  \n",
    "  return tf.where(parts[-2] == CLASS_NAMES)[0][0]\n",
    "\n",
    "def decode_img(img):\n",
    "  # convert the compressed string to a 3D uint8 tensor\n",
    "  img = tf.image.decode_jpeg(img, channels=3)\n",
    "  return img  \n",
    "\n",
    "def process_path(file_path):\n",
    "  label = get_label(file_path)\n",
    "  # load the raw data from the file as a string\n",
    "  img = tf.io.read_file(file_path)\n",
    "  img = decode_img(img)\n",
    "  features = {'image': img, 'label': label}\n",
    "  return features\n",
    "\n",
    "list_ds = tf.data.Dataset.list_files(str(data_dir/'*/*'))\n",
    "ds = list_ds.map(process_path, num_parallel_calls=tf.data.experimental.AUTOTUNE)\n",
    "\n",
    "train_split = 0.9\n",
    "num_train = int(train_split * num_examples)\n",
    "ds_train = ds.take(num_train)\n",
    "ds_test = ds.skip(num_train)\n",
    "\n",
    "DATASET_NUM_TRAIN_EXAMPLES = num_examples"
   ]
  },
  {
   "cell_type": "code",
   "execution_count": 7,
   "metadata": {
    "colab": {},
    "colab_type": "code",
    "id": "s2RGgy4ghgsh"
   },
   "outputs": [],
   "source": [
    "# Add new head to the BiT model\n",
    "\n",
    "class MyBiTModel(tf.keras.Model):\n",
    "  \"\"\"BiT with a new head.\"\"\"\n",
    "\n",
    "  def __init__(self, num_classes, module):\n",
    "    super().__init__()\n",
    "\n",
    "    self.num_classes = num_classes\n",
    "    self.head = tf.keras.layers.Dense(num_classes, kernel_initializer='zeros')\n",
    "    self.bit_model = module\n",
    "  \n",
    "  def call(self, images):\n",
    "    # No need to cut head off since we are using feature extractor model\n",
    "    bit_embedding = self.bit_model(images)\n",
    "    return self.head(bit_embedding)\n",
    "\n",
    "model = MyBiTModel(num_classes=NUM_CLASSES, module=module)"
   ]
  },
  {
   "cell_type": "code",
   "execution_count": 8,
   "metadata": {
    "cellView": "form",
    "colab": {},
    "colab_type": "code",
    "id": "jp5APPRlheCC"
   },
   "outputs": [],
   "source": [
    "#@title Set dataset-dependent hyperparameters\n",
    "\n",
    "#@markdown Here we set dataset-dependent hyperparameters. For example, our dataset of flowers has 3670 images of varying size (a few hundred x a few hundred pixels), so the image size is larger than 96x96 and the dataset size is <20k examples. However, for speed reasons (since this is a tutorial and we are training on a single GPU), we will select the `<96x96 px` option and train on lower resolution images. As we will see, we can still attain strong results.\n",
    "\n",
    "#@markdown **Algorithm details: how are the hyperparameters dataset-dependent?** \n",
    "\n",
    "#@markdown It's quite intuitive - we resize images to a smaller fixed size if they are smaller than 96 x 96px and to a larger fixed size otherwise. The number of steps we fine-tune for is larger for larger datasets. \n",
    "\n",
    "IMAGE_SIZE = \"=\\u003C96x96 px\" #@param [\"=<96x96 px\",\"> 96 x 96 px\"]\n",
    "DATASET_SIZE = \"\\u003C20k examples\" #@param [\"<20k examples\", \"20k-500k examples\", \">500k examples\"]\n",
    "\n",
    "if IMAGE_SIZE == \"=<96x96 px\":\n",
    "  RESIZE_TO = 160\n",
    "  CROP_TO = 128\n",
    "else:\n",
    "  RESIZE_TO = 512\n",
    "  CROP_TO = 480\n",
    "\n",
    "if DATASET_SIZE == \"<20k examples\":\n",
    "  SCHEDULE_LENGTH = 500\n",
    "  SCHEDULE_BOUNDARIES = [200, 300, 400]\n",
    "elif DATASET_SIZE == \"20k-500k examples\":\n",
    "  SCHEDULE_LENGTH = 10000\n",
    "  SCHEDULE_BOUNDARIES = [3000, 6000, 9000]\n",
    "else:\n",
    "  SCHEDULE_LENGTH = 20000\n",
    "  SCHEDULE_BOUNDARIES = [6000, 12000, 18000]"
   ]
  },
  {
   "cell_type": "code",
   "execution_count": 9,
   "metadata": {
    "colab": {},
    "colab_type": "code",
    "id": "3DiIrQFBhe9R"
   },
   "outputs": [],
   "source": [
    "# Preprocessing helper functions\n",
    "\n",
    "# Create data pipelines for training and testing:\n",
    "BATCH_SIZE = 4\n",
    "SCHEDULE_LENGTH = SCHEDULE_LENGTH * 512 / BATCH_SIZE\n",
    "\n",
    "STEPS_PER_EPOCH = 10\n",
    "\n",
    "def cast_to_tuple(features):\n",
    "  return (features['image'], features['label'])\n",
    "  \n",
    "def preprocess_train(features):\n",
    "  # Apply random crops and horizontal flips for all tasks \n",
    "  # except those for which cropping or flipping destroys the label semantics\n",
    "  # (e.g. predict orientation of an object)\n",
    "  features['image'] = tf.image.random_flip_left_right(features['image'])\n",
    "  features['image'] = tf.image.resize(features['image'], [RESIZE_TO, RESIZE_TO])\n",
    "  features['image'] = tf.image.random_crop(features['image'], [CROP_TO, CROP_TO, 3])\n",
    "  features['image'] = tf.cast(features['image'], tf.float32) / 255.0\n",
    "  return features\n",
    "\n",
    "def preprocess_test(features):\n",
    "  features['image'] = tf.image.resize(features['image'], [RESIZE_TO, RESIZE_TO])\n",
    "  features['image'] = tf.cast(features['image'], tf.float32) / 255.0\n",
    "  return features\n",
    "\n",
    "pipeline_train = (ds_train\n",
    "                  .shuffle(10000)\n",
    "                  .repeat(int(SCHEDULE_LENGTH * BATCH_SIZE / DATASET_NUM_TRAIN_EXAMPLES * STEPS_PER_EPOCH) + 1 + 50)  # repeat dataset_size / num_steps\n",
    "                  .map(preprocess_train, num_parallel_calls=8)\n",
    "                  .batch(BATCH_SIZE)\n",
    "                  .map(cast_to_tuple)  # for keras model.fit\n",
    "                  .prefetch(2))\n",
    "\n",
    "pipeline_test = (ds_test.map(preprocess_test, num_parallel_calls=1)\n",
    "                  .map(cast_to_tuple)  # for keras model.fit\n",
    "                  .batch(BATCH_SIZE)\n",
    "                  .prefetch(2))"
   ]
  },
  {
   "cell_type": "code",
   "execution_count": 10,
   "metadata": {
    "colab": {},
    "colab_type": "code",
    "id": "Zx60lxfzhoTQ"
   },
   "outputs": [],
   "source": [
    "# Define optimiser and loss\n",
    "\n",
    "lr = 0.003 * BATCH_SIZE / 512 \n",
    "\n",
    "# Decay learning rate by a factor of 10 at SCHEDULE_BOUNDARIES.\n",
    "lr_schedule = tf.keras.optimizers.schedules.PiecewiseConstantDecay(boundaries=SCHEDULE_BOUNDARIES, \n",
    "                                                                   values=[lr, lr*0.1, lr*0.001, lr*0.0001])\n",
    "optimizer = tf.keras.optimizers.SGD(learning_rate=lr_schedule, momentum=0.9)\n",
    "\n",
    "loss_fn = tf.keras.losses.SparseCategoricalCrossentropy(from_logits=True)"
   ]
  },
  {
   "cell_type": "code",
   "execution_count": 11,
   "metadata": {
    "colab": {
     "base_uri": "https://localhost:8080/",
     "height": 1000
    },
    "colab_type": "code",
    "id": "qJmqsAFmeQZd",
    "outputId": "9859d60d-0a45-47ba-a54b-350667abd2f5"
   },
   "outputs": [
    {
     "name": "stdout",
     "output_type": "stream",
     "text": [
      "Epoch 1/30\n",
      "10/10 [==============================] - 43s 4s/step - loss: 1.5500 - accuracy: 0.3000 - val_loss: 1.4574 - val_accuracy: 0.2078\n",
      "Epoch 2/30\n",
      "10/10 [==============================] - 13s 1s/step - loss: 1.4255 - accuracy: 0.4000 - val_loss: 1.7907 - val_accuracy: 0.3667\n",
      "Epoch 3/30\n",
      "10/10 [==============================] - 5s 478ms/step - loss: 1.6838 - accuracy: 0.3250 - val_loss: 1.2215 - val_accuracy: 0.4333\n",
      "Epoch 4/30\n",
      "10/10 [==============================] - 5s 492ms/step - loss: 1.2954 - accuracy: 0.4000 - val_loss: 1.0804 - val_accuracy: 0.5863\n",
      "Epoch 5/30\n",
      "10/10 [==============================] - 5s 495ms/step - loss: 1.0379 - accuracy: 0.5750 - val_loss: 1.0194 - val_accuracy: 0.6647\n",
      "Epoch 6/30\n",
      "10/10 [==============================] - 5s 486ms/step - loss: 0.8946 - accuracy: 0.7250 - val_loss: 1.0527 - val_accuracy: 0.5980\n",
      "Epoch 7/30\n",
      "10/10 [==============================] - 5s 489ms/step - loss: 0.9228 - accuracy: 0.6750 - val_loss: 0.9599 - val_accuracy: 0.6902\n",
      "Epoch 8/30\n",
      "10/10 [==============================] - 5s 489ms/step - loss: 0.9639 - accuracy: 0.6500 - val_loss: 0.9898 - val_accuracy: 0.5843\n",
      "Epoch 9/30\n",
      "10/10 [==============================] - 5s 491ms/step - loss: 0.9838 - accuracy: 0.6250 - val_loss: 0.9667 - val_accuracy: 0.6451\n",
      "Epoch 10/30\n",
      "10/10 [==============================] - 5s 491ms/step - loss: 1.0317 - accuracy: 0.6000 - val_loss: 0.8911 - val_accuracy: 0.7059\n",
      "Epoch 11/30\n",
      "10/10 [==============================] - 5s 493ms/step - loss: 0.8686 - accuracy: 0.6750 - val_loss: 0.8035 - val_accuracy: 0.7529\n",
      "Epoch 12/30\n",
      "10/10 [==============================] - 5s 494ms/step - loss: 0.8914 - accuracy: 0.6250 - val_loss: 0.8800 - val_accuracy: 0.6882\n",
      "Epoch 13/30\n",
      "10/10 [==============================] - 5s 494ms/step - loss: 0.9674 - accuracy: 0.7250 - val_loss: 0.7515 - val_accuracy: 0.7804\n",
      "Epoch 14/30\n",
      "10/10 [==============================] - 5s 499ms/step - loss: 0.8516 - accuracy: 0.7750 - val_loss: 0.8031 - val_accuracy: 0.7431\n",
      "Epoch 15/30\n",
      "10/10 [==============================] - 5s 503ms/step - loss: 0.7758 - accuracy: 0.7250 - val_loss: 0.8168 - val_accuracy: 0.7216\n",
      "Epoch 16/30\n",
      "10/10 [==============================] - 5s 500ms/step - loss: 0.6601 - accuracy: 0.7500 - val_loss: 0.7854 - val_accuracy: 0.7529\n",
      "Epoch 17/30\n",
      "10/10 [==============================] - 5s 493ms/step - loss: 0.6001 - accuracy: 0.8250 - val_loss: 0.6838 - val_accuracy: 0.8216\n",
      "Epoch 18/30\n",
      "10/10 [==============================] - 5s 493ms/step - loss: 0.7701 - accuracy: 0.6750 - val_loss: 0.6792 - val_accuracy: 0.8020\n",
      "Epoch 19/30\n",
      "10/10 [==============================] - 5s 493ms/step - loss: 0.8403 - accuracy: 0.7500 - val_loss: 0.6970 - val_accuracy: 0.7863\n",
      "Epoch 20/30\n",
      "10/10 [==============================] - 5s 495ms/step - loss: 0.6434 - accuracy: 0.7750 - val_loss: 0.8151 - val_accuracy: 0.7118\n",
      "Epoch 21/30\n",
      "10/10 [==============================] - 5s 496ms/step - loss: 0.7608 - accuracy: 0.7250 - val_loss: 0.7896 - val_accuracy: 0.7020\n",
      "Epoch 22/30\n",
      "10/10 [==============================] - 5s 498ms/step - loss: 0.7484 - accuracy: 0.7750 - val_loss: 0.7356 - val_accuracy: 0.7471\n",
      "Epoch 23/30\n",
      "10/10 [==============================] - 5s 503ms/step - loss: 0.7036 - accuracy: 0.6750 - val_loss: 0.6979 - val_accuracy: 0.7902\n",
      "Epoch 24/30\n",
      "10/10 [==============================] - 5s 499ms/step - loss: 0.6999 - accuracy: 0.8500 - val_loss: 0.6664 - val_accuracy: 0.8059\n",
      "Epoch 25/30\n",
      "10/10 [==============================] - 5s 516ms/step - loss: 0.8029 - accuracy: 0.6750 - val_loss: 0.6650 - val_accuracy: 0.8176\n",
      "Epoch 26/30\n",
      "10/10 [==============================] - 5s 522ms/step - loss: 0.3768 - accuracy: 0.9500 - val_loss: 0.6779 - val_accuracy: 0.8078\n",
      "Epoch 27/30\n",
      "10/10 [==============================] - 5s 524ms/step - loss: 0.5750 - accuracy: 0.8000 - val_loss: 0.6656 - val_accuracy: 0.8216\n",
      "Epoch 28/30\n",
      "10/10 [==============================] - 5s 523ms/step - loss: 0.7002 - accuracy: 0.7750 - val_loss: 0.6910 - val_accuracy: 0.8098\n",
      "Epoch 29/30\n",
      "10/10 [==============================] - 5s 523ms/step - loss: 0.6696 - accuracy: 0.8250 - val_loss: 0.6538 - val_accuracy: 0.8137\n",
      "Epoch 30/30\n",
      "10/10 [==============================] - 5s 523ms/step - loss: 0.4446 - accuracy: 0.8500 - val_loss: 0.6550 - val_accuracy: 0.8137\n"
     ]
    }
   ],
   "source": [
    "model.compile(optimizer=optimizer,\n",
    "              loss=loss_fn,\n",
    "              metrics=['accuracy'])\n",
    "\n",
    "# Fine-tune model\n",
    "\n",
    "#history = model.fit(\n",
    "#    pipeline_train,\n",
    "#    batch_size=BATCH_SIZE,\n",
    "#    steps_per_epoch=STEPS_PER_EPOCH,\n",
    "#    epochs= int(SCHEDULE_LENGTH / STEPS_PER_EPOCH),  # TODO: replace with `epochs=10` here to shorten fine-tuning for tutorial if you wish\n",
    "#    validation_data=pipeline_test  # here we are only using \n",
    "                                   # this data to evaluate our performance\n",
    "#)\n",
    "\n",
    "\n",
    "history = model.fit(\n",
    "    pipeline_train,\n",
    "    steps_per_epoch=STEPS_PER_EPOCH,\n",
    "    epochs=30,  # TODO: replace with `epochs=10` here to shorten fine-tuning for tutorial if you wish\n",
    "    validation_data=pipeline_test  # here we are only using \n",
    "                                   # this data to evaluate our performance\n",
    ")"
   ]
  },
  {
   "cell_type": "code",
   "execution_count": 12,
   "metadata": {},
   "outputs": [
    {
     "data": {
      "image/png": "[encoded data removed]",
      "text/plain": [
       "<Figure size 1080x432 with 2 Axes>"
      ]
     },
     "metadata": {
      "needs_background": "light"
     },
     "output_type": "display_data"
    }
   ],
   "source": [
    "import matplotlib.pyplot as plt\n",
    "\n",
    "plt.figure(figsize=(15, 6))\n",
    "plt.suptitle(\"Training progress for pretrained model\", fontsize=20)\n",
    "\n",
    "plt.subplot(121)\n",
    "plt.plot(history.history[\"loss\"], label=\"Train\")\n",
    "plt.plot(history.history[\"val_loss\"], label=\"Validation\")\n",
    "plt.legend()\n",
    "plt.ylabel(\"Crossentropy loss\")\n",
    "plt.xlabel(\"Epoch\")\n",
    "\n",
    "plt.subplot(122)\n",
    "plt.plot(np.array(history.history[\"accuracy\"]) * 100, label=\"Train\")\n",
    "plt.plot(np.array(history.history[\"val_accuracy\"]) * 100, label=\"Validation\")\n",
    "plt.legend()\n",
    "plt.ylabel(\"Accuracy, %\")\n",
    "plt.xlabel(\"Epoch\");"
   ]
  },
  {
   "cell_type": "markdown",
   "metadata": {
    "colab_type": "text",
    "id": "8p4YCZnivV7K"
   },
   "source": [
    "We see that our model attains around 80% training and validation accuracy."
   ]
  },
  {
   "cell_type": "code",
   "execution_count": 13,
   "metadata": {
    "colab": {
     "base_uri": "https://localhost:8080/",
     "height": 175
    },
    "colab_type": "code",
    "id": "EOYOLzWblDSf",
    "outputId": "7740b6f2-70bf-4ddd-c77d-9d977fdca559"
   },
   "outputs": [
    {
     "name": "stdout",
     "output_type": "stream",
     "text": [
      "WARNING:tensorflow:From D:\\Anaconda3\\envs\\tf2-gpu\\lib\\site-packages\\tensorflow\\python\\ops\\resource_variable_ops.py:1817: calling BaseResourceVariable.__init__ (from tensorflow.python.ops.resource_variable_ops) with constraint is deprecated and will be removed in a future version.\n",
      "Instructions for updating:\n",
      "If using Keras pass *_constraint arguments to layers.\n"
     ]
    },
    {
     "name": "stderr",
     "output_type": "stream",
     "text": [
      "WARNING:tensorflow:From D:\\Anaconda3\\envs\\tf2-gpu\\lib\\site-packages\\tensorflow\\python\\ops\\resource_variable_ops.py:1817: calling BaseResourceVariable.__init__ (from tensorflow.python.ops.resource_variable_ops) with constraint is deprecated and will be removed in a future version.\n",
      "Instructions for updating:\n",
      "If using Keras pass *_constraint arguments to layers.\n"
     ]
    },
    {
     "name": "stdout",
     "output_type": "stream",
     "text": [
      "INFO:tensorflow:Assets written to: D:\\git\\deeplearning\\simpsons\\simpsons\\models\\assets\n"
     ]
    },
    {
     "name": "stderr",
     "output_type": "stream",
     "text": [
      "INFO:tensorflow:Assets written to: D:\\git\\deeplearning\\simpsons\\simpsons\\models\\assets\n"
     ]
    }
   ],
   "source": [
    "# Save fine-tuned model as SavedModel\n",
    "export_module_dir = 'D:\\\\git\\\\deeplearning\\\\simpsons\\\\simpsons\\\\models'\n",
    "tf.saved_model.save(model, export_module_dir)"
   ]
  },
  {
   "cell_type": "code",
   "execution_count": 14,
   "metadata": {
    "colab": {},
    "colab_type": "code",
    "id": "YlgQVjWvlf_6"
   },
   "outputs": [],
   "source": [
    "# Load saved model\n",
    "saved_module = hub.KerasLayer(export_module_dir, trainable=True)"
   ]
  },
  {
   "cell_type": "code",
   "execution_count": 18,
   "metadata": {
    "colab": {
     "base_uri": "https://localhost:8080/",
     "height": 279
    },
    "colab_type": "code",
    "id": "aMKx3A0Z0h6E",
    "outputId": "9c92c06b-0194-4d66-c893-4d30ef67fd47"
   },
   "outputs": [
    {
     "data": {
      "image/png": "[encoded data removed]",
      "text/plain": [
       "<Figure size 504x288 with 2 Axes>"
      ]
     },
     "metadata": {
      "needs_background": "light"
     },
     "output_type": "display_data"
    }
   ],
   "source": [
    "# Visualise predictions from new model\n",
    "for features in ds_test.take(1):\n",
    "  image = features['image']\n",
    "  image = preprocess_image(image)\n",
    "  image = tf.image.resize(image, [CROP_TO, CROP_TO])\n",
    "\n",
    "  # Run model on image\n",
    "  logits = saved_module(image)\n",
    "  #logits = model(image)\n",
    "  \n",
    "  # Show image and predictions\n",
    "  show_preds(logits, image[0], correct_label=features['label'].numpy(), tf_simpsons_logits=True)"
   ]
  }
 ],
 "metadata": {
  "accelerator": "GPU",
  "colab": {
   "collapsed_sections": [],
   "machine_shape": "hm",
   "name": "big_transfer_tf2",
   "provenance": []
  },
  "kernelspec": {
   "display_name": "Python 3",
   "language": "python",
   "name": "python3"
  },
  "language_info": {
   "codemirror_mode": {
    "name": "ipython",
    "version": 3
   },
   "file_extension": ".py",
   "mimetype": "text/x-python",
   "name": "python",
   "nbconvert_exporter": "python",
   "pygments_lexer": "ipython3",
   "version": "3.7.5"
  },
  "widgets": {
   "application/vnd.jupyter.widget-state+json": {
    "27cccceb221a4a52b7969759d9e85846": {
     "model_module": "@jupyter-widgets/controls",
     "model_name": "HTMLModel",
     "state": {
      "_dom_classes": [],
      "_model_module": "@jupyter-widgets/controls",
      "_model_module_version": "1.5.0",
      "_model_name": "HTMLModel",
      "_view_count": null,
      "_view_module": "@jupyter-widgets/controls",
      "_view_module_version": "1.5.0",
      "_view_name": "HTMLView",
      "description": "",
      "description_tooltip": null,
      "layout": "IPY_MODEL_fda175b0297e4ded87741cc82b9fb395",
      "placeholder": "​",
      "style": "IPY_MODEL_2932e152f899402a80125a6eeaa8bac6",
      "value": " 5/5 [00:03&lt;00:00,  1.66 file/s]"
     }
    },
    "2932e152f899402a80125a6eeaa8bac6": {
     "model_module": "@jupyter-widgets/controls",
     "model_name": "DescriptionStyleModel",
     "state": {
      "_model_module": "@jupyter-widgets/controls",
      "_model_module_version": "1.5.0",
      "_model_name": "DescriptionStyleModel",
      "_view_count": null,
      "_view_module": "@jupyter-widgets/base",
      "_view_module_version": "1.2.0",
      "_view_name": "StyleView",
      "description_width": ""
     }
    },
    "516b20f5d8aa455297d84298efb9b741": {
     "model_module": "@jupyter-widgets/base",
     "model_name": "LayoutModel",
     "state": {
      "_model_module": "@jupyter-widgets/base",
      "_model_module_version": "1.2.0",
      "_model_name": "LayoutModel",
      "_view_count": null,
      "_view_module": "@jupyter-widgets/base",
      "_view_module_version": "1.2.0",
      "_view_name": "LayoutView",
      "align_content": null,
      "align_items": null,
      "align_self": null,
      "border": null,
      "bottom": null,
      "display": null,
      "flex": null,
      "flex_flow": null,
      "grid_area": null,
      "grid_auto_columns": null,
      "grid_auto_flow": null,
      "grid_auto_rows": null,
      "grid_column": null,
      "grid_gap": null,
      "grid_row": null,
      "grid_template_areas": null,
      "grid_template_columns": null,
      "grid_template_rows": null,
      "height": null,
      "justify_content": null,
      "justify_items": null,
      "left": null,
      "margin": null,
      "max_height": null,
      "max_width": null,
      "min_height": null,
      "min_width": null,
      "object_fit": null,
      "object_position": null,
      "order": null,
      "overflow": null,
      "overflow_x": null,
      "overflow_y": null,
      "padding": null,
      "right": null,
      "top": null,
      "visibility": null,
      "width": null
     }
    },
    "54403b34a464494ab6f9ff95c3584099": {
     "model_module": "@jupyter-widgets/controls",
     "model_name": "ProgressStyleModel",
     "state": {
      "_model_module": "@jupyter-widgets/controls",
      "_model_module_version": "1.5.0",
      "_model_name": "ProgressStyleModel",
      "_view_count": null,
      "_view_module": "@jupyter-widgets/base",
      "_view_module_version": "1.2.0",
      "_view_name": "StyleView",
      "bar_color": null,
      "description_width": "initial"
     }
    },
    "62d9e468183840fcaf52f2f856a1624c": {
     "model_module": "@jupyter-widgets/controls",
     "model_name": "FloatProgressModel",
     "state": {
      "_dom_classes": [],
      "_model_module": "@jupyter-widgets/controls",
      "_model_module_version": "1.5.0",
      "_model_name": "FloatProgressModel",
      "_view_count": null,
      "_view_module": "@jupyter-widgets/controls",
      "_view_module_version": "1.5.0",
      "_view_name": "ProgressView",
      "bar_style": "success",
      "description": "Dl Completed...: 100%",
      "description_tooltip": null,
      "layout": "IPY_MODEL_516b20f5d8aa455297d84298efb9b741",
      "max": 5,
      "min": 0,
      "orientation": "horizontal",
      "style": "IPY_MODEL_54403b34a464494ab6f9ff95c3584099",
      "value": 5
     }
    },
    "77e33a5c8f564620859fe1c4b34ec6a7": {
     "model_module": "@jupyter-widgets/controls",
     "model_name": "HBoxModel",
     "state": {
      "_dom_classes": [],
      "_model_module": "@jupyter-widgets/controls",
      "_model_module_version": "1.5.0",
      "_model_name": "HBoxModel",
      "_view_count": null,
      "_view_module": "@jupyter-widgets/controls",
      "_view_module_version": "1.5.0",
      "_view_name": "HBoxView",
      "box_style": "",
      "children": [
       "IPY_MODEL_62d9e468183840fcaf52f2f856a1624c",
       "IPY_MODEL_27cccceb221a4a52b7969759d9e85846"
      ],
      "layout": "IPY_MODEL_d4c00075c69c4ab1bff9dfd08b1ba12c"
     }
    },
    "d4c00075c69c4ab1bff9dfd08b1ba12c": {
     "model_module": "@jupyter-widgets/base",
     "model_name": "LayoutModel",
     "state": {
      "_model_module": "@jupyter-widgets/base",
      "_model_module_version": "1.2.0",
      "_model_name": "LayoutModel",
      "_view_count": null,
      "_view_module": "@jupyter-widgets/base",
      "_view_module_version": "1.2.0",
      "_view_name": "LayoutView",
      "align_content": null,
      "align_items": null,
      "align_self": null,
      "border": null,
      "bottom": null,
      "display": null,
      "flex": null,
      "flex_flow": null,
      "grid_area": null,
      "grid_auto_columns": null,
      "grid_auto_flow": null,
      "grid_auto_rows": null,
      "grid_column": null,
      "grid_gap": null,
      "grid_row": null,
      "grid_template_areas": null,
      "grid_template_columns": null,
      "grid_template_rows": null,
      "height": null,
      "justify_content": null,
      "justify_items": null,
      "left": null,
      "margin": null,
      "max_height": null,
      "max_width": null,
      "min_height": null,
      "min_width": null,
      "object_fit": null,
      "object_position": null,
      "order": null,
      "overflow": null,
      "overflow_x": null,
      "overflow_y": null,
      "padding": null,
      "right": null,
      "top": null,
      "visibility": null,
      "width": null
     }
    },
    "fda175b0297e4ded87741cc82b9fb395": {
     "model_module": "@jupyter-widgets/base",
     "model_name": "LayoutModel",
     "state": {
      "_model_module": "@jupyter-widgets/base",
      "_model_module_version": "1.2.0",
      "_model_name": "LayoutModel",
      "_view_count": null,
      "_view_module": "@jupyter-widgets/base",
      "_view_module_version": "1.2.0",
      "_view_name": "LayoutView",
      "align_content": null,
      "align_items": null,
      "align_self": null,
      "border": null,
      "bottom": null,
      "display": null,
      "flex": null,
      "flex_flow": null,
      "grid_area": null,
      "grid_auto_columns": null,
      "grid_auto_flow": null,
      "grid_auto_rows": null,
      "grid_column": null,
      "grid_gap": null,
      "grid_row": null,
      "grid_template_areas": null,
      "grid_template_columns": null,
      "grid_template_rows": null,
      "height": null,
      "justify_content": null,
      "justify_items": null,
      "left": null,
      "margin": null,
      "max_height": null,
      "max_width": null,
      "min_height": null,
      "min_width": null,
      "object_fit": null,
      "object_position": null,
      "order": null,
      "overflow": null,
      "overflow_x": null,
      "overflow_y": null,
      "padding": null,
      "right": null,
      "top": null,
      "visibility": null,
      "width": null
     }
    }
   }
  }
 },
 "nbformat": 4,
 "nbformat_minor": 1
}
